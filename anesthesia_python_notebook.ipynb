{
 "cells": [
  {
   "cell_type": "markdown",
   "id": "98cd0ee0-8380-4882-8398-bc2972687516",
   "metadata": {},
   "source": [
    "## Weclome\n",
    "\n",
    "### What is this?\n",
    "This session _(Advanced AI: Using Large Language Models for Data Analysis)_ is designed to introduce basic programming skills. The focus is on practical applications of coding in healthcare settings, with the aim of getting you comfortable with the basics; we hope you can apply these skills to automate the boring things in your life,  maybe use some of this in a research project, and overall just feel less intimidated by the idea. \n",
    "\n",
    "### Where am I?\n",
    "This is a private \"Jupyter notebook\" hosted on one of the AIM lab comupters. Jupyter notebooks are a mixture of a normal document, like Microsoft Word, mixed in with usable programming areas. This makes it really easy to follow along with someone elses code or do a tutorial. The most commonly-used noteboks these days is [Google Colab](https://colab.google.com). Google offers a free notebook to every Google account, where you can run your own scripts without downloading anything! This website, the AIM Lab Cloud, is similar to Google collab, except that it is private and pre-loaded with some data for today's exercise. \n"
   ]
  },
  {
   "cell_type": "markdown",
   "id": "eac47735-8301-4bae-938a-b643aa5fa876",
   "metadata": {},
   "source": [
    "## About Notebooks\n",
    "### Cells\n",
    "Notebooks are broken into \"cells\" which have one can either contain just text (like this one) or can contain some code; this code can be edited and run. \n",
    "\n",
    "The cell below this is a simple command in Python to print out a phrase with a name. Click on it to edit it, and change the name to you own. Keep the quotation mark ```\"``` in place and only change the name.  Once you are satisfied, press the \"play\" button (►) at the top or press shift-enter to run that cell."
   ]
  },
  {
   "cell_type": "code",
   "id": "dd6c7788-5033-4806-8587-88ce4c55bb74",
   "metadata": {},
   "source": "print(\"Hi there, Harry Lemmens!\")",
   "outputs": [],
   "execution_count": null
  },
  {
   "cell_type": "markdown",
   "id": "c353d6a7-f69a-4d11-80d6-1083e1b33769",
   "metadata": {},
   "source": [
    "Great job! You have successfully run (or _executed_) your first python script. See, it's not that bad. What if we wanted to seperate the name from the rest of the command? To do that, we'd need to use a __variable__.\n",
    "\n",
    "## Variables\n",
    "Variables are words that represent some other value; the name of a variable can only be letters and numbers (generally lowercase, with spaces  swapped for underscores). There are a bunch of different types of variables, but the most important ones are:\n",
    "\n",
    "- integers (whole numbers)\n",
    "- floats (numbers with decimal places)\n",
    "- strings (sets of characters, such as a word or a sentences)\n",
    "- boolean (true or false, ie bianary)\n",
    "- lists (groups of other variables ordered by their position in the list)\n",
    "- dictionaries (groups of variables ordered by word labels)\n",
    "\n",
    "To assign a value to a variable, you use the equals sign. The value on the right side is stored in the variable on the left side of the equals sign. \n",
    "\n",
    "Note: we can place comments into our code by prefixing something with the pound/hash ```#``` symbol. Comments aren't \"run\" but are just there to help someone understand the code."
   ]
  },
  {
   "cell_type": "code",
   "id": "f99cf0f0-2ddf-439d-8010-a867ce6d83b1",
   "metadata": {},
   "source": [
    "# integer\n",
    "big_number = 1025\n",
    "\n",
    "# float\n",
    "another_big_number = 2310.2315\n",
    "\n",
    "# strings are wrapped in single quotes or double quotes\n",
    "a_good_sentence = \"Just put the tube in\" \n",
    "\n",
    "# booleans are either true or false. In python, True and False are capitalized\n",
    "tube_is_in = True\n",
    "\n",
    "# lists are made using square brackets, with elements seperated by commas. Lists can be made of different variable types.\n",
    "good_variables = [ big_number, another_big_number, a_good_sentence, tube_is_in ]\n",
    "\n",
    "# we can print the whole list to see what is stored inside\n",
    "print(good_variables)"
   ],
   "outputs": [],
   "execution_count": null
  },
  {
   "cell_type": "markdown",
   "id": "e93e6bad-f484-48e4-a075-d439aafaf8a5",
   "metadata": {},
   "source": [
    "Excellent! Notice that the string still has some quotation marks around it - that's how you know it is a string, and how True is capitalized. If it was lowercase, python would think it was a variable name and go looking for what its value was. \n",
    "\n",
    "If we wanted to get just part of a list, we would need to access the elements using their position (also known as _index_). The first position is zero, so if we wanted the value of ```tube_is_in``` we'd have to get the element with the index of three. Here is how you do that:\n"
   ]
  },
  {
   "cell_type": "code",
   "id": "16a057ef-50c8-4c99-92f5-5b45ff341b50",
   "metadata": {},
   "source": [
    "# to access an element within a list, use square brackets after the list name\n",
    "print(good_variables[3])"
   ],
   "outputs": [],
   "execution_count": null
  },
  {
   "cell_type": "markdown",
   "id": "1068474a-3b06-4261-a5f3-0ab095f07d68",
   "metadata": {},
   "source": [
    "Remembering the index within a list is annoying and error-prone, so there is a better way, using _dictionaries_. Dictionaries are like lists except that we can use a string (ie, a set of characters) to reference the element, instead of having to remember its index number. "
   ]
  },
  {
   "cell_type": "code",
   "id": "f852e72e-3c84-428b-a45a-5352d1c516b9",
   "metadata": {},
   "source": [
    "# dictionaries are like lists but are made using the curly brackets. Instead of relying on their\n",
    "# position in the list as their label, they have a key. The main way to assign them is using the colon symbol. \n",
    "residency_facts = { \"Program Name\": \"Stanford Anesthesia\",\n",
    "                    \"Program Director\": \"Marianne Chen\", \n",
    "                    \"Number of Residents\": 52, \n",
    "                    \"Enough Cardiac Experience\": True}\n",
    "\n",
    "# to access an element, you use a similar method to lists, with square brakets, but instead of the index number, you use the key\n",
    "residency_facts[\"Program Director\"]"
   ],
   "outputs": [],
   "execution_count": null
  },
  {
   "cell_type": "markdown",
   "id": "a26a6d7c-1b15-4141-85fe-3021cb9b7b0f",
   "metadata": {},
   "source": [
    "Wonderful! So now we know how to store data in variables. By itself, that is not very useful. To make a useful program, we generally need to compare values and make decisions based on those values. To do that, we need conditional statements, a way to guide the program on what to do based on the value of a variable. The big one is the if/else statements - compare the values of two variables and do something based on that comparison.\n",
    "\n",
    "### Conditional statements\n",
    "\n",
    "Note that if we want to ask whether two variables are equal to each other, we can't use the same phrasing as below \"name = value\" because that is used for assignment. To compare two values, we use double equals signs ```==```. \n",
    "\n",
    "To break up the sections into which instructions to do when, tabs or spaces are used to create a paragraph of statements to complete.\n"
   ]
  },
  {
   "cell_type": "code",
   "id": "34deabfd-794f-4ce1-a5b5-6fce219fc4ee",
   "metadata": {},
   "source": [
    "# assigning the variable big_number a value of 1025\n",
    "our_number = 1025\n",
    "\n",
    "# comparing the value of a variable to the integer 1025\n",
    "if our_number == 1025:\n",
    "    print(\"That's the same number as before, a big number.\")"
   ],
   "outputs": [],
   "execution_count": null
  },
  {
   "cell_type": "markdown",
   "id": "52a5729a-a3cd-4857-9bbc-ea47abe48b7c",
   "metadata": {},
   "source": [
    "You can also include ```else``` statements, and you can compare values not just for equality, but size difference."
   ]
  },
  {
   "cell_type": "code",
   "id": "2cf444e9-4488-4822-b8ea-710cc49e9264",
   "metadata": {},
   "source": [
    "our_number = 1025\n",
    "\n",
    "if our_number > 2000:\n",
    "    print(\"Wow such numbers\")\n",
    "else:\n",
    "    # should be less than or equal to 2000\n",
    "    print(\"Rookie numbers\")"
   ],
   "outputs": [],
   "execution_count": null
  },
  {
   "cell_type": "markdown",
   "id": "89d9bf86-b9a3-4348-bbdd-93a17a67acb9",
   "metadata": {},
   "source": [
    "You can compare any type of value, not just numbers.\n"
   ]
  },
  {
   "cell_type": "code",
   "id": "50fc6b2d-9be5-40a2-920c-9f4a61e3cf0b",
   "metadata": {},
   "source": [
    "old_program_director = \"Alex Macario\"\n",
    "residency_facts = { \"Program Name\": \"Stanford Anesthesia\",\n",
    "                    \"Program Director\": \"Marianne Chen\", \n",
    "                    \"Number of Residents\": 52, \n",
    "                    \"Enough Cardiac Experience\": True}\n",
    "\n",
    "if residency_facts[\"Program Director\"] == old_program_director:\n",
    "    print(\"Same program director as year 2010\")\n",
    "else:\n",
    "    print(\"New program director compared to 2010\")\n"
   ],
   "outputs": [],
   "execution_count": null
  },
  {
   "cell_type": "markdown",
   "id": "0af0ca87-b4ff-4d74-891f-aa3ba7bc514f",
   "metadata": {},
   "source": [
    "Wonderful. \n",
    "\n",
    "### Iteration\n",
    "\n",
    "You might say: \"That is all great guys, but these are really easy and I don't really need a computer to do this kind of work for me. I want a computer for tasks that require a lot of repetative effort.\"\n",
    "\n",
    "This is where iteration can be helpful. Iteration is a way to complete a task many times. For example, imagine we had a list of people's names and we wanted to print their name with the title \"Dr\" in front of it. Doing this manually would take a long time, but we can do it quickly in python.\n",
    "\n",
    "The most common way to iterate is to do a action repeatedly for each element in a list. In some programming languages, this is called ```foreach```. In python, it is just called a ```for``` loop. In a for loop, we give the program a temporary variable that represents the element that we're working on, and it moves through the list until the list is complete.\n"
   ]
  },
  {
   "cell_type": "code",
   "id": "c2df6d7e-46fa-46e0-87d1-d1443f46ca5f",
   "metadata": {},
   "source": [
    "# create a list of names\n",
    "ob_faculty_list = [\"Gill Abrir\", \"Brian Bateman\", \"Andrea Traynor\"]\n",
    "for ob_faculty in ob_faculty_list:\n",
    "    print(\"Dr. \" + ob_faculty)\n",
    "    "
   ],
   "outputs": [],
   "execution_count": null
  },
  {
   "cell_type": "markdown",
   "id": "0dab37f2-1498-45b9-a39e-54f00d8885fb",
   "metadata": {},
   "source": [
    "### Functions\n",
    "\n",
    "With everything up to this point, you could build almost any program imaginable. But it would be painful witout functions - a way to collect processes into organized units.\n",
    "\n",
    "Functions don't do anything that you haven't learned yet, they just make programming easier by reducing the amount of repetition in your code. The work similiarly to functions in math - you have an input variable, some internal processing, and an output variable. In coding, you can have more than one input and more than one output. Let's make the world's most boring function - add \"Dr. \" to someone's name."
   ]
  },
  {
   "cell_type": "code",
   "id": "f99412bb-0c2e-46c1-88f3-20140bb44615",
   "metadata": {},
   "source": [
    "# you start defining a function with the keyword \"def\" \n",
    "# list the input variables within paranthesis, followed by a colon\n",
    "\n",
    "def medical_school(person_name):\n",
    "    doctor_name = \"Dr. \" + person_name\n",
    "    return doctor_name\n",
    "\n",
    "# to run a function, use its name followed by the inputs in parathesis\n",
    "some_guy = \"Billy Bob Man\"\n",
    "foo = medical_school(some_guy)\n",
    "print(foo)"
   ],
   "outputs": [],
   "execution_count": null
  },
  {
   "cell_type": "markdown",
   "id": "96eec6df-4441-46e8-9956-399e1e9676b3",
   "metadata": {},
   "source": "##  Data analysis with Python"
  },
  {
   "cell_type": "markdown",
   "id": "1eaea898d6f10e8d",
   "metadata": {},
   "source": [
    "Python by itself is a powerful tool for data analysis, but it becomes even more powerful when combined with the right libraries. The most popular library for data analysis in Python is Pandas. Pandas is a fast, powerful, and flexible. It is similar to Excel, but with more flexibilty.\n",
    "\n",
    "It is also somewhat confusing to use at first, but once you get the hang of it, it is a very powerful tool.\n",
    "\n"
   ]
  },
  {
   "cell_type": "markdown",
   "id": "7fd1f9223253b52a",
   "metadata": {},
   "source": [
    "#### Dataframes\n",
    "\n",
    "The primary data structure in Pandas is the DataFrame. A DataFrame is a two-dimensional tabular data structure; it is heterogeneous (different data types can be in the same columns) and has labeled axes (rows and columns). One major difference from Excel is that rows and columns aren't treated equally. Rows almost always represent individual observations, while columns represent variables.\n",
    "\n",
    "The easiest way to understand Pandas is to see it in action. \n"
   ]
  },
  {
   "cell_type": "markdown",
   "id": "9b76620fa489dd27",
   "metadata": {},
   "source": [
    "#### Fake dataset\n",
    "\n",
    "I spent way too much time making a fake perioperative patient dataset using a free LLM that was trained on medical record data. The dataset has ~300 rows and ~40 columns. It's stored as a CSV file, which is like an Excel file but without the fancy formatting.\n",
    "\n",
    "Let's load the dataset and take a look at it.\n",
    "\n",
    "Note: Don't worry about how some of this syntax looks very different from normal python code. There's a lot of magic happening behind the scenes to make this work, and it's not important to understand that right now. "
   ]
  },
  {
   "cell_type": "code",
   "id": "b1ab47337d9081e5",
   "metadata": {
    "ExecuteTime": {
     "end_time": "2024-07-30T04:20:43.767828Z",
     "start_time": "2024-07-30T04:20:39.324161Z"
    }
   },
   "source": [
    "# first we need to import the pandas library to\n",
    "# let python know we want to use it.\n",
    "# we assign it the alias pd to make it easier to use\n",
    "import pandas as pd\n",
    "\n",
    "# dataframes are commonly abbreviated as df\n",
    "df = pd.read_csv('https://informatics.stanford.edu/synthetic-periop-dataset')\n",
    "\n",
    "# to look at a dataframe in Jupyter, just finish the cell with the variable name\n",
    "# for large dataframes, you can use the head() function to see the first few rows\n",
    "\n",
    "df.head(5)"
   ],
   "outputs": [
    {
     "ename": "HTTPError",
     "evalue": "HTTP Error 404: Not Found",
     "output_type": "error",
     "traceback": [
      "\u001B[0;31m---------------------------------------------------------------------------\u001B[0m",
      "\u001B[0;31mHTTPError\u001B[0m                                 Traceback (most recent call last)",
      "Cell \u001B[0;32mIn[1], line 7\u001B[0m\n\u001B[1;32m      4\u001B[0m \u001B[38;5;28;01mimport\u001B[39;00m \u001B[38;5;21;01mpandas\u001B[39;00m \u001B[38;5;28;01mas\u001B[39;00m \u001B[38;5;21;01mpd\u001B[39;00m\n\u001B[1;32m      6\u001B[0m \u001B[38;5;66;03m# dataframes are commonly abbreviated as df\u001B[39;00m\n\u001B[0;32m----> 7\u001B[0m df \u001B[38;5;241m=\u001B[39m \u001B[43mpd\u001B[49m\u001B[38;5;241;43m.\u001B[39;49m\u001B[43mread_csv\u001B[49m\u001B[43m(\u001B[49m\u001B[38;5;124;43m'\u001B[39;49m\u001B[38;5;124;43mhttps://informatics.stanford.edu/synthetic-periop-dataset\u001B[39;49m\u001B[38;5;124;43m'\u001B[39;49m\u001B[43m)\u001B[49m\n\u001B[1;32m      9\u001B[0m \u001B[38;5;66;03m# to look at a dataframe in Jupyter, just finish the cell with the variable name\u001B[39;00m\n\u001B[1;32m     10\u001B[0m \u001B[38;5;66;03m# for large dataframes, you can use the head() function to see the first few rows\u001B[39;00m\n\u001B[1;32m     12\u001B[0m df\u001B[38;5;241m.\u001B[39mhead(\u001B[38;5;241m5\u001B[39m)\n",
      "File \u001B[0;32m~/.virtualenvs/aimlab.cloud/lib/python3.11/site-packages/pandas/io/parsers/readers.py:1026\u001B[0m, in \u001B[0;36mread_csv\u001B[0;34m(filepath_or_buffer, sep, delimiter, header, names, index_col, usecols, dtype, engine, converters, true_values, false_values, skipinitialspace, skiprows, skipfooter, nrows, na_values, keep_default_na, na_filter, verbose, skip_blank_lines, parse_dates, infer_datetime_format, keep_date_col, date_parser, date_format, dayfirst, cache_dates, iterator, chunksize, compression, thousands, decimal, lineterminator, quotechar, quoting, doublequote, escapechar, comment, encoding, encoding_errors, dialect, on_bad_lines, delim_whitespace, low_memory, memory_map, float_precision, storage_options, dtype_backend)\u001B[0m\n\u001B[1;32m   1013\u001B[0m kwds_defaults \u001B[38;5;241m=\u001B[39m _refine_defaults_read(\n\u001B[1;32m   1014\u001B[0m     dialect,\n\u001B[1;32m   1015\u001B[0m     delimiter,\n\u001B[0;32m   (...)\u001B[0m\n\u001B[1;32m   1022\u001B[0m     dtype_backend\u001B[38;5;241m=\u001B[39mdtype_backend,\n\u001B[1;32m   1023\u001B[0m )\n\u001B[1;32m   1024\u001B[0m kwds\u001B[38;5;241m.\u001B[39mupdate(kwds_defaults)\n\u001B[0;32m-> 1026\u001B[0m \u001B[38;5;28;01mreturn\u001B[39;00m \u001B[43m_read\u001B[49m\u001B[43m(\u001B[49m\u001B[43mfilepath_or_buffer\u001B[49m\u001B[43m,\u001B[49m\u001B[43m \u001B[49m\u001B[43mkwds\u001B[49m\u001B[43m)\u001B[49m\n",
      "File \u001B[0;32m~/.virtualenvs/aimlab.cloud/lib/python3.11/site-packages/pandas/io/parsers/readers.py:620\u001B[0m, in \u001B[0;36m_read\u001B[0;34m(filepath_or_buffer, kwds)\u001B[0m\n\u001B[1;32m    617\u001B[0m _validate_names(kwds\u001B[38;5;241m.\u001B[39mget(\u001B[38;5;124m\"\u001B[39m\u001B[38;5;124mnames\u001B[39m\u001B[38;5;124m\"\u001B[39m, \u001B[38;5;28;01mNone\u001B[39;00m))\n\u001B[1;32m    619\u001B[0m \u001B[38;5;66;03m# Create the parser.\u001B[39;00m\n\u001B[0;32m--> 620\u001B[0m parser \u001B[38;5;241m=\u001B[39m \u001B[43mTextFileReader\u001B[49m\u001B[43m(\u001B[49m\u001B[43mfilepath_or_buffer\u001B[49m\u001B[43m,\u001B[49m\u001B[43m \u001B[49m\u001B[38;5;241;43m*\u001B[39;49m\u001B[38;5;241;43m*\u001B[39;49m\u001B[43mkwds\u001B[49m\u001B[43m)\u001B[49m\n\u001B[1;32m    622\u001B[0m \u001B[38;5;28;01mif\u001B[39;00m chunksize \u001B[38;5;129;01mor\u001B[39;00m iterator:\n\u001B[1;32m    623\u001B[0m     \u001B[38;5;28;01mreturn\u001B[39;00m parser\n",
      "File \u001B[0;32m~/.virtualenvs/aimlab.cloud/lib/python3.11/site-packages/pandas/io/parsers/readers.py:1620\u001B[0m, in \u001B[0;36mTextFileReader.__init__\u001B[0;34m(self, f, engine, **kwds)\u001B[0m\n\u001B[1;32m   1617\u001B[0m     \u001B[38;5;28mself\u001B[39m\u001B[38;5;241m.\u001B[39moptions[\u001B[38;5;124m\"\u001B[39m\u001B[38;5;124mhas_index_names\u001B[39m\u001B[38;5;124m\"\u001B[39m] \u001B[38;5;241m=\u001B[39m kwds[\u001B[38;5;124m\"\u001B[39m\u001B[38;5;124mhas_index_names\u001B[39m\u001B[38;5;124m\"\u001B[39m]\n\u001B[1;32m   1619\u001B[0m \u001B[38;5;28mself\u001B[39m\u001B[38;5;241m.\u001B[39mhandles: IOHandles \u001B[38;5;241m|\u001B[39m \u001B[38;5;28;01mNone\u001B[39;00m \u001B[38;5;241m=\u001B[39m \u001B[38;5;28;01mNone\u001B[39;00m\n\u001B[0;32m-> 1620\u001B[0m \u001B[38;5;28mself\u001B[39m\u001B[38;5;241m.\u001B[39m_engine \u001B[38;5;241m=\u001B[39m \u001B[38;5;28;43mself\u001B[39;49m\u001B[38;5;241;43m.\u001B[39;49m\u001B[43m_make_engine\u001B[49m\u001B[43m(\u001B[49m\u001B[43mf\u001B[49m\u001B[43m,\u001B[49m\u001B[43m \u001B[49m\u001B[38;5;28;43mself\u001B[39;49m\u001B[38;5;241;43m.\u001B[39;49m\u001B[43mengine\u001B[49m\u001B[43m)\u001B[49m\n",
      "File \u001B[0;32m~/.virtualenvs/aimlab.cloud/lib/python3.11/site-packages/pandas/io/parsers/readers.py:1880\u001B[0m, in \u001B[0;36mTextFileReader._make_engine\u001B[0;34m(self, f, engine)\u001B[0m\n\u001B[1;32m   1878\u001B[0m     \u001B[38;5;28;01mif\u001B[39;00m \u001B[38;5;124m\"\u001B[39m\u001B[38;5;124mb\u001B[39m\u001B[38;5;124m\"\u001B[39m \u001B[38;5;129;01mnot\u001B[39;00m \u001B[38;5;129;01min\u001B[39;00m mode:\n\u001B[1;32m   1879\u001B[0m         mode \u001B[38;5;241m+\u001B[39m\u001B[38;5;241m=\u001B[39m \u001B[38;5;124m\"\u001B[39m\u001B[38;5;124mb\u001B[39m\u001B[38;5;124m\"\u001B[39m\n\u001B[0;32m-> 1880\u001B[0m \u001B[38;5;28mself\u001B[39m\u001B[38;5;241m.\u001B[39mhandles \u001B[38;5;241m=\u001B[39m \u001B[43mget_handle\u001B[49m\u001B[43m(\u001B[49m\n\u001B[1;32m   1881\u001B[0m \u001B[43m    \u001B[49m\u001B[43mf\u001B[49m\u001B[43m,\u001B[49m\n\u001B[1;32m   1882\u001B[0m \u001B[43m    \u001B[49m\u001B[43mmode\u001B[49m\u001B[43m,\u001B[49m\n\u001B[1;32m   1883\u001B[0m \u001B[43m    \u001B[49m\u001B[43mencoding\u001B[49m\u001B[38;5;241;43m=\u001B[39;49m\u001B[38;5;28;43mself\u001B[39;49m\u001B[38;5;241;43m.\u001B[39;49m\u001B[43moptions\u001B[49m\u001B[38;5;241;43m.\u001B[39;49m\u001B[43mget\u001B[49m\u001B[43m(\u001B[49m\u001B[38;5;124;43m\"\u001B[39;49m\u001B[38;5;124;43mencoding\u001B[39;49m\u001B[38;5;124;43m\"\u001B[39;49m\u001B[43m,\u001B[49m\u001B[43m \u001B[49m\u001B[38;5;28;43;01mNone\u001B[39;49;00m\u001B[43m)\u001B[49m\u001B[43m,\u001B[49m\n\u001B[1;32m   1884\u001B[0m \u001B[43m    \u001B[49m\u001B[43mcompression\u001B[49m\u001B[38;5;241;43m=\u001B[39;49m\u001B[38;5;28;43mself\u001B[39;49m\u001B[38;5;241;43m.\u001B[39;49m\u001B[43moptions\u001B[49m\u001B[38;5;241;43m.\u001B[39;49m\u001B[43mget\u001B[49m\u001B[43m(\u001B[49m\u001B[38;5;124;43m\"\u001B[39;49m\u001B[38;5;124;43mcompression\u001B[39;49m\u001B[38;5;124;43m\"\u001B[39;49m\u001B[43m,\u001B[49m\u001B[43m \u001B[49m\u001B[38;5;28;43;01mNone\u001B[39;49;00m\u001B[43m)\u001B[49m\u001B[43m,\u001B[49m\n\u001B[1;32m   1885\u001B[0m \u001B[43m    \u001B[49m\u001B[43mmemory_map\u001B[49m\u001B[38;5;241;43m=\u001B[39;49m\u001B[38;5;28;43mself\u001B[39;49m\u001B[38;5;241;43m.\u001B[39;49m\u001B[43moptions\u001B[49m\u001B[38;5;241;43m.\u001B[39;49m\u001B[43mget\u001B[49m\u001B[43m(\u001B[49m\u001B[38;5;124;43m\"\u001B[39;49m\u001B[38;5;124;43mmemory_map\u001B[39;49m\u001B[38;5;124;43m\"\u001B[39;49m\u001B[43m,\u001B[49m\u001B[43m \u001B[49m\u001B[38;5;28;43;01mFalse\u001B[39;49;00m\u001B[43m)\u001B[49m\u001B[43m,\u001B[49m\n\u001B[1;32m   1886\u001B[0m \u001B[43m    \u001B[49m\u001B[43mis_text\u001B[49m\u001B[38;5;241;43m=\u001B[39;49m\u001B[43mis_text\u001B[49m\u001B[43m,\u001B[49m\n\u001B[1;32m   1887\u001B[0m \u001B[43m    \u001B[49m\u001B[43merrors\u001B[49m\u001B[38;5;241;43m=\u001B[39;49m\u001B[38;5;28;43mself\u001B[39;49m\u001B[38;5;241;43m.\u001B[39;49m\u001B[43moptions\u001B[49m\u001B[38;5;241;43m.\u001B[39;49m\u001B[43mget\u001B[49m\u001B[43m(\u001B[49m\u001B[38;5;124;43m\"\u001B[39;49m\u001B[38;5;124;43mencoding_errors\u001B[39;49m\u001B[38;5;124;43m\"\u001B[39;49m\u001B[43m,\u001B[49m\u001B[43m \u001B[49m\u001B[38;5;124;43m\"\u001B[39;49m\u001B[38;5;124;43mstrict\u001B[39;49m\u001B[38;5;124;43m\"\u001B[39;49m\u001B[43m)\u001B[49m\u001B[43m,\u001B[49m\n\u001B[1;32m   1888\u001B[0m \u001B[43m    \u001B[49m\u001B[43mstorage_options\u001B[49m\u001B[38;5;241;43m=\u001B[39;49m\u001B[38;5;28;43mself\u001B[39;49m\u001B[38;5;241;43m.\u001B[39;49m\u001B[43moptions\u001B[49m\u001B[38;5;241;43m.\u001B[39;49m\u001B[43mget\u001B[49m\u001B[43m(\u001B[49m\u001B[38;5;124;43m\"\u001B[39;49m\u001B[38;5;124;43mstorage_options\u001B[39;49m\u001B[38;5;124;43m\"\u001B[39;49m\u001B[43m,\u001B[49m\u001B[43m \u001B[49m\u001B[38;5;28;43;01mNone\u001B[39;49;00m\u001B[43m)\u001B[49m\u001B[43m,\u001B[49m\n\u001B[1;32m   1889\u001B[0m \u001B[43m\u001B[49m\u001B[43m)\u001B[49m\n\u001B[1;32m   1890\u001B[0m \u001B[38;5;28;01massert\u001B[39;00m \u001B[38;5;28mself\u001B[39m\u001B[38;5;241m.\u001B[39mhandles \u001B[38;5;129;01mis\u001B[39;00m \u001B[38;5;129;01mnot\u001B[39;00m \u001B[38;5;28;01mNone\u001B[39;00m\n\u001B[1;32m   1891\u001B[0m f \u001B[38;5;241m=\u001B[39m \u001B[38;5;28mself\u001B[39m\u001B[38;5;241m.\u001B[39mhandles\u001B[38;5;241m.\u001B[39mhandle\n",
      "File \u001B[0;32m~/.virtualenvs/aimlab.cloud/lib/python3.11/site-packages/pandas/io/common.py:728\u001B[0m, in \u001B[0;36mget_handle\u001B[0;34m(path_or_buf, mode, encoding, compression, memory_map, is_text, errors, storage_options)\u001B[0m\n\u001B[1;32m    725\u001B[0m     codecs\u001B[38;5;241m.\u001B[39mlookup_error(errors)\n\u001B[1;32m    727\u001B[0m \u001B[38;5;66;03m# open URLs\u001B[39;00m\n\u001B[0;32m--> 728\u001B[0m ioargs \u001B[38;5;241m=\u001B[39m \u001B[43m_get_filepath_or_buffer\u001B[49m\u001B[43m(\u001B[49m\n\u001B[1;32m    729\u001B[0m \u001B[43m    \u001B[49m\u001B[43mpath_or_buf\u001B[49m\u001B[43m,\u001B[49m\n\u001B[1;32m    730\u001B[0m \u001B[43m    \u001B[49m\u001B[43mencoding\u001B[49m\u001B[38;5;241;43m=\u001B[39;49m\u001B[43mencoding\u001B[49m\u001B[43m,\u001B[49m\n\u001B[1;32m    731\u001B[0m \u001B[43m    \u001B[49m\u001B[43mcompression\u001B[49m\u001B[38;5;241;43m=\u001B[39;49m\u001B[43mcompression\u001B[49m\u001B[43m,\u001B[49m\n\u001B[1;32m    732\u001B[0m \u001B[43m    \u001B[49m\u001B[43mmode\u001B[49m\u001B[38;5;241;43m=\u001B[39;49m\u001B[43mmode\u001B[49m\u001B[43m,\u001B[49m\n\u001B[1;32m    733\u001B[0m \u001B[43m    \u001B[49m\u001B[43mstorage_options\u001B[49m\u001B[38;5;241;43m=\u001B[39;49m\u001B[43mstorage_options\u001B[49m\u001B[43m,\u001B[49m\n\u001B[1;32m    734\u001B[0m \u001B[43m\u001B[49m\u001B[43m)\u001B[49m\n\u001B[1;32m    736\u001B[0m handle \u001B[38;5;241m=\u001B[39m ioargs\u001B[38;5;241m.\u001B[39mfilepath_or_buffer\n\u001B[1;32m    737\u001B[0m handles: \u001B[38;5;28mlist\u001B[39m[BaseBuffer]\n",
      "File \u001B[0;32m~/.virtualenvs/aimlab.cloud/lib/python3.11/site-packages/pandas/io/common.py:384\u001B[0m, in \u001B[0;36m_get_filepath_or_buffer\u001B[0;34m(filepath_or_buffer, encoding, compression, mode, storage_options)\u001B[0m\n\u001B[1;32m    382\u001B[0m \u001B[38;5;66;03m# assuming storage_options is to be interpreted as headers\u001B[39;00m\n\u001B[1;32m    383\u001B[0m req_info \u001B[38;5;241m=\u001B[39m urllib\u001B[38;5;241m.\u001B[39mrequest\u001B[38;5;241m.\u001B[39mRequest(filepath_or_buffer, headers\u001B[38;5;241m=\u001B[39mstorage_options)\n\u001B[0;32m--> 384\u001B[0m \u001B[38;5;28;01mwith\u001B[39;00m \u001B[43murlopen\u001B[49m\u001B[43m(\u001B[49m\u001B[43mreq_info\u001B[49m\u001B[43m)\u001B[49m \u001B[38;5;28;01mas\u001B[39;00m req:\n\u001B[1;32m    385\u001B[0m     content_encoding \u001B[38;5;241m=\u001B[39m req\u001B[38;5;241m.\u001B[39mheaders\u001B[38;5;241m.\u001B[39mget(\u001B[38;5;124m\"\u001B[39m\u001B[38;5;124mContent-Encoding\u001B[39m\u001B[38;5;124m\"\u001B[39m, \u001B[38;5;28;01mNone\u001B[39;00m)\n\u001B[1;32m    386\u001B[0m     \u001B[38;5;28;01mif\u001B[39;00m content_encoding \u001B[38;5;241m==\u001B[39m \u001B[38;5;124m\"\u001B[39m\u001B[38;5;124mgzip\u001B[39m\u001B[38;5;124m\"\u001B[39m:\n\u001B[1;32m    387\u001B[0m         \u001B[38;5;66;03m# Override compression based on Content-Encoding header\u001B[39;00m\n",
      "File \u001B[0;32m~/.virtualenvs/aimlab.cloud/lib/python3.11/site-packages/pandas/io/common.py:289\u001B[0m, in \u001B[0;36murlopen\u001B[0;34m(*args, **kwargs)\u001B[0m\n\u001B[1;32m    283\u001B[0m \u001B[38;5;250m\u001B[39m\u001B[38;5;124;03m\"\"\"\u001B[39;00m\n\u001B[1;32m    284\u001B[0m \u001B[38;5;124;03mLazy-import wrapper for stdlib urlopen, as that imports a big chunk of\u001B[39;00m\n\u001B[1;32m    285\u001B[0m \u001B[38;5;124;03mthe stdlib.\u001B[39;00m\n\u001B[1;32m    286\u001B[0m \u001B[38;5;124;03m\"\"\"\u001B[39;00m\n\u001B[1;32m    287\u001B[0m \u001B[38;5;28;01mimport\u001B[39;00m \u001B[38;5;21;01murllib\u001B[39;00m\u001B[38;5;21;01m.\u001B[39;00m\u001B[38;5;21;01mrequest\u001B[39;00m\n\u001B[0;32m--> 289\u001B[0m \u001B[38;5;28;01mreturn\u001B[39;00m \u001B[43murllib\u001B[49m\u001B[38;5;241;43m.\u001B[39;49m\u001B[43mrequest\u001B[49m\u001B[38;5;241;43m.\u001B[39;49m\u001B[43murlopen\u001B[49m\u001B[43m(\u001B[49m\u001B[38;5;241;43m*\u001B[39;49m\u001B[43margs\u001B[49m\u001B[43m,\u001B[49m\u001B[43m \u001B[49m\u001B[38;5;241;43m*\u001B[39;49m\u001B[38;5;241;43m*\u001B[39;49m\u001B[43mkwargs\u001B[49m\u001B[43m)\u001B[49m\n",
      "File \u001B[0;32m/opt/homebrew/Cellar/python@3.11/3.11.7_1/Frameworks/Python.framework/Versions/3.11/lib/python3.11/urllib/request.py:216\u001B[0m, in \u001B[0;36murlopen\u001B[0;34m(url, data, timeout, cafile, capath, cadefault, context)\u001B[0m\n\u001B[1;32m    214\u001B[0m \u001B[38;5;28;01melse\u001B[39;00m:\n\u001B[1;32m    215\u001B[0m     opener \u001B[38;5;241m=\u001B[39m _opener\n\u001B[0;32m--> 216\u001B[0m \u001B[38;5;28;01mreturn\u001B[39;00m \u001B[43mopener\u001B[49m\u001B[38;5;241;43m.\u001B[39;49m\u001B[43mopen\u001B[49m\u001B[43m(\u001B[49m\u001B[43murl\u001B[49m\u001B[43m,\u001B[49m\u001B[43m \u001B[49m\u001B[43mdata\u001B[49m\u001B[43m,\u001B[49m\u001B[43m \u001B[49m\u001B[43mtimeout\u001B[49m\u001B[43m)\u001B[49m\n",
      "File \u001B[0;32m/opt/homebrew/Cellar/python@3.11/3.11.7_1/Frameworks/Python.framework/Versions/3.11/lib/python3.11/urllib/request.py:525\u001B[0m, in \u001B[0;36mOpenerDirector.open\u001B[0;34m(self, fullurl, data, timeout)\u001B[0m\n\u001B[1;32m    523\u001B[0m \u001B[38;5;28;01mfor\u001B[39;00m processor \u001B[38;5;129;01min\u001B[39;00m \u001B[38;5;28mself\u001B[39m\u001B[38;5;241m.\u001B[39mprocess_response\u001B[38;5;241m.\u001B[39mget(protocol, []):\n\u001B[1;32m    524\u001B[0m     meth \u001B[38;5;241m=\u001B[39m \u001B[38;5;28mgetattr\u001B[39m(processor, meth_name)\n\u001B[0;32m--> 525\u001B[0m     response \u001B[38;5;241m=\u001B[39m \u001B[43mmeth\u001B[49m\u001B[43m(\u001B[49m\u001B[43mreq\u001B[49m\u001B[43m,\u001B[49m\u001B[43m \u001B[49m\u001B[43mresponse\u001B[49m\u001B[43m)\u001B[49m\n\u001B[1;32m    527\u001B[0m \u001B[38;5;28;01mreturn\u001B[39;00m response\n",
      "File \u001B[0;32m/opt/homebrew/Cellar/python@3.11/3.11.7_1/Frameworks/Python.framework/Versions/3.11/lib/python3.11/urllib/request.py:634\u001B[0m, in \u001B[0;36mHTTPErrorProcessor.http_response\u001B[0;34m(self, request, response)\u001B[0m\n\u001B[1;32m    631\u001B[0m \u001B[38;5;66;03m# According to RFC 2616, \"2xx\" code indicates that the client's\u001B[39;00m\n\u001B[1;32m    632\u001B[0m \u001B[38;5;66;03m# request was successfully received, understood, and accepted.\u001B[39;00m\n\u001B[1;32m    633\u001B[0m \u001B[38;5;28;01mif\u001B[39;00m \u001B[38;5;129;01mnot\u001B[39;00m (\u001B[38;5;241m200\u001B[39m \u001B[38;5;241m<\u001B[39m\u001B[38;5;241m=\u001B[39m code \u001B[38;5;241m<\u001B[39m \u001B[38;5;241m300\u001B[39m):\n\u001B[0;32m--> 634\u001B[0m     response \u001B[38;5;241m=\u001B[39m \u001B[38;5;28;43mself\u001B[39;49m\u001B[38;5;241;43m.\u001B[39;49m\u001B[43mparent\u001B[49m\u001B[38;5;241;43m.\u001B[39;49m\u001B[43merror\u001B[49m\u001B[43m(\u001B[49m\n\u001B[1;32m    635\u001B[0m \u001B[43m        \u001B[49m\u001B[38;5;124;43m'\u001B[39;49m\u001B[38;5;124;43mhttp\u001B[39;49m\u001B[38;5;124;43m'\u001B[39;49m\u001B[43m,\u001B[49m\u001B[43m \u001B[49m\u001B[43mrequest\u001B[49m\u001B[43m,\u001B[49m\u001B[43m \u001B[49m\u001B[43mresponse\u001B[49m\u001B[43m,\u001B[49m\u001B[43m \u001B[49m\u001B[43mcode\u001B[49m\u001B[43m,\u001B[49m\u001B[43m \u001B[49m\u001B[43mmsg\u001B[49m\u001B[43m,\u001B[49m\u001B[43m \u001B[49m\u001B[43mhdrs\u001B[49m\u001B[43m)\u001B[49m\n\u001B[1;32m    637\u001B[0m \u001B[38;5;28;01mreturn\u001B[39;00m response\n",
      "File \u001B[0;32m/opt/homebrew/Cellar/python@3.11/3.11.7_1/Frameworks/Python.framework/Versions/3.11/lib/python3.11/urllib/request.py:557\u001B[0m, in \u001B[0;36mOpenerDirector.error\u001B[0;34m(self, proto, *args)\u001B[0m\n\u001B[1;32m    555\u001B[0m     http_err \u001B[38;5;241m=\u001B[39m \u001B[38;5;241m0\u001B[39m\n\u001B[1;32m    556\u001B[0m args \u001B[38;5;241m=\u001B[39m (\u001B[38;5;28mdict\u001B[39m, proto, meth_name) \u001B[38;5;241m+\u001B[39m args\n\u001B[0;32m--> 557\u001B[0m result \u001B[38;5;241m=\u001B[39m \u001B[38;5;28;43mself\u001B[39;49m\u001B[38;5;241;43m.\u001B[39;49m\u001B[43m_call_chain\u001B[49m\u001B[43m(\u001B[49m\u001B[38;5;241;43m*\u001B[39;49m\u001B[43margs\u001B[49m\u001B[43m)\u001B[49m\n\u001B[1;32m    558\u001B[0m \u001B[38;5;28;01mif\u001B[39;00m result:\n\u001B[1;32m    559\u001B[0m     \u001B[38;5;28;01mreturn\u001B[39;00m result\n",
      "File \u001B[0;32m/opt/homebrew/Cellar/python@3.11/3.11.7_1/Frameworks/Python.framework/Versions/3.11/lib/python3.11/urllib/request.py:496\u001B[0m, in \u001B[0;36mOpenerDirector._call_chain\u001B[0;34m(self, chain, kind, meth_name, *args)\u001B[0m\n\u001B[1;32m    494\u001B[0m \u001B[38;5;28;01mfor\u001B[39;00m handler \u001B[38;5;129;01min\u001B[39;00m handlers:\n\u001B[1;32m    495\u001B[0m     func \u001B[38;5;241m=\u001B[39m \u001B[38;5;28mgetattr\u001B[39m(handler, meth_name)\n\u001B[0;32m--> 496\u001B[0m     result \u001B[38;5;241m=\u001B[39m \u001B[43mfunc\u001B[49m\u001B[43m(\u001B[49m\u001B[38;5;241;43m*\u001B[39;49m\u001B[43margs\u001B[49m\u001B[43m)\u001B[49m\n\u001B[1;32m    497\u001B[0m     \u001B[38;5;28;01mif\u001B[39;00m result \u001B[38;5;129;01mis\u001B[39;00m \u001B[38;5;129;01mnot\u001B[39;00m \u001B[38;5;28;01mNone\u001B[39;00m:\n\u001B[1;32m    498\u001B[0m         \u001B[38;5;28;01mreturn\u001B[39;00m result\n",
      "File \u001B[0;32m/opt/homebrew/Cellar/python@3.11/3.11.7_1/Frameworks/Python.framework/Versions/3.11/lib/python3.11/urllib/request.py:749\u001B[0m, in \u001B[0;36mHTTPRedirectHandler.http_error_302\u001B[0;34m(self, req, fp, code, msg, headers)\u001B[0m\n\u001B[1;32m    746\u001B[0m fp\u001B[38;5;241m.\u001B[39mread()\n\u001B[1;32m    747\u001B[0m fp\u001B[38;5;241m.\u001B[39mclose()\n\u001B[0;32m--> 749\u001B[0m \u001B[38;5;28;01mreturn\u001B[39;00m \u001B[38;5;28;43mself\u001B[39;49m\u001B[38;5;241;43m.\u001B[39;49m\u001B[43mparent\u001B[49m\u001B[38;5;241;43m.\u001B[39;49m\u001B[43mopen\u001B[49m\u001B[43m(\u001B[49m\u001B[43mnew\u001B[49m\u001B[43m,\u001B[49m\u001B[43m \u001B[49m\u001B[43mtimeout\u001B[49m\u001B[38;5;241;43m=\u001B[39;49m\u001B[43mreq\u001B[49m\u001B[38;5;241;43m.\u001B[39;49m\u001B[43mtimeout\u001B[49m\u001B[43m)\u001B[49m\n",
      "File \u001B[0;32m/opt/homebrew/Cellar/python@3.11/3.11.7_1/Frameworks/Python.framework/Versions/3.11/lib/python3.11/urllib/request.py:525\u001B[0m, in \u001B[0;36mOpenerDirector.open\u001B[0;34m(self, fullurl, data, timeout)\u001B[0m\n\u001B[1;32m    523\u001B[0m \u001B[38;5;28;01mfor\u001B[39;00m processor \u001B[38;5;129;01min\u001B[39;00m \u001B[38;5;28mself\u001B[39m\u001B[38;5;241m.\u001B[39mprocess_response\u001B[38;5;241m.\u001B[39mget(protocol, []):\n\u001B[1;32m    524\u001B[0m     meth \u001B[38;5;241m=\u001B[39m \u001B[38;5;28mgetattr\u001B[39m(processor, meth_name)\n\u001B[0;32m--> 525\u001B[0m     response \u001B[38;5;241m=\u001B[39m \u001B[43mmeth\u001B[49m\u001B[43m(\u001B[49m\u001B[43mreq\u001B[49m\u001B[43m,\u001B[49m\u001B[43m \u001B[49m\u001B[43mresponse\u001B[49m\u001B[43m)\u001B[49m\n\u001B[1;32m    527\u001B[0m \u001B[38;5;28;01mreturn\u001B[39;00m response\n",
      "File \u001B[0;32m/opt/homebrew/Cellar/python@3.11/3.11.7_1/Frameworks/Python.framework/Versions/3.11/lib/python3.11/urllib/request.py:634\u001B[0m, in \u001B[0;36mHTTPErrorProcessor.http_response\u001B[0;34m(self, request, response)\u001B[0m\n\u001B[1;32m    631\u001B[0m \u001B[38;5;66;03m# According to RFC 2616, \"2xx\" code indicates that the client's\u001B[39;00m\n\u001B[1;32m    632\u001B[0m \u001B[38;5;66;03m# request was successfully received, understood, and accepted.\u001B[39;00m\n\u001B[1;32m    633\u001B[0m \u001B[38;5;28;01mif\u001B[39;00m \u001B[38;5;129;01mnot\u001B[39;00m (\u001B[38;5;241m200\u001B[39m \u001B[38;5;241m<\u001B[39m\u001B[38;5;241m=\u001B[39m code \u001B[38;5;241m<\u001B[39m \u001B[38;5;241m300\u001B[39m):\n\u001B[0;32m--> 634\u001B[0m     response \u001B[38;5;241m=\u001B[39m \u001B[38;5;28;43mself\u001B[39;49m\u001B[38;5;241;43m.\u001B[39;49m\u001B[43mparent\u001B[49m\u001B[38;5;241;43m.\u001B[39;49m\u001B[43merror\u001B[49m\u001B[43m(\u001B[49m\n\u001B[1;32m    635\u001B[0m \u001B[43m        \u001B[49m\u001B[38;5;124;43m'\u001B[39;49m\u001B[38;5;124;43mhttp\u001B[39;49m\u001B[38;5;124;43m'\u001B[39;49m\u001B[43m,\u001B[49m\u001B[43m \u001B[49m\u001B[43mrequest\u001B[49m\u001B[43m,\u001B[49m\u001B[43m \u001B[49m\u001B[43mresponse\u001B[49m\u001B[43m,\u001B[49m\u001B[43m \u001B[49m\u001B[43mcode\u001B[49m\u001B[43m,\u001B[49m\u001B[43m \u001B[49m\u001B[43mmsg\u001B[49m\u001B[43m,\u001B[49m\u001B[43m \u001B[49m\u001B[43mhdrs\u001B[49m\u001B[43m)\u001B[49m\n\u001B[1;32m    637\u001B[0m \u001B[38;5;28;01mreturn\u001B[39;00m response\n",
      "File \u001B[0;32m/opt/homebrew/Cellar/python@3.11/3.11.7_1/Frameworks/Python.framework/Versions/3.11/lib/python3.11/urllib/request.py:563\u001B[0m, in \u001B[0;36mOpenerDirector.error\u001B[0;34m(self, proto, *args)\u001B[0m\n\u001B[1;32m    561\u001B[0m \u001B[38;5;28;01mif\u001B[39;00m http_err:\n\u001B[1;32m    562\u001B[0m     args \u001B[38;5;241m=\u001B[39m (\u001B[38;5;28mdict\u001B[39m, \u001B[38;5;124m'\u001B[39m\u001B[38;5;124mdefault\u001B[39m\u001B[38;5;124m'\u001B[39m, \u001B[38;5;124m'\u001B[39m\u001B[38;5;124mhttp_error_default\u001B[39m\u001B[38;5;124m'\u001B[39m) \u001B[38;5;241m+\u001B[39m orig_args\n\u001B[0;32m--> 563\u001B[0m     \u001B[38;5;28;01mreturn\u001B[39;00m \u001B[38;5;28;43mself\u001B[39;49m\u001B[38;5;241;43m.\u001B[39;49m\u001B[43m_call_chain\u001B[49m\u001B[43m(\u001B[49m\u001B[38;5;241;43m*\u001B[39;49m\u001B[43margs\u001B[49m\u001B[43m)\u001B[49m\n",
      "File \u001B[0;32m/opt/homebrew/Cellar/python@3.11/3.11.7_1/Frameworks/Python.framework/Versions/3.11/lib/python3.11/urllib/request.py:496\u001B[0m, in \u001B[0;36mOpenerDirector._call_chain\u001B[0;34m(self, chain, kind, meth_name, *args)\u001B[0m\n\u001B[1;32m    494\u001B[0m \u001B[38;5;28;01mfor\u001B[39;00m handler \u001B[38;5;129;01min\u001B[39;00m handlers:\n\u001B[1;32m    495\u001B[0m     func \u001B[38;5;241m=\u001B[39m \u001B[38;5;28mgetattr\u001B[39m(handler, meth_name)\n\u001B[0;32m--> 496\u001B[0m     result \u001B[38;5;241m=\u001B[39m \u001B[43mfunc\u001B[49m\u001B[43m(\u001B[49m\u001B[38;5;241;43m*\u001B[39;49m\u001B[43margs\u001B[49m\u001B[43m)\u001B[49m\n\u001B[1;32m    497\u001B[0m     \u001B[38;5;28;01mif\u001B[39;00m result \u001B[38;5;129;01mis\u001B[39;00m \u001B[38;5;129;01mnot\u001B[39;00m \u001B[38;5;28;01mNone\u001B[39;00m:\n\u001B[1;32m    498\u001B[0m         \u001B[38;5;28;01mreturn\u001B[39;00m result\n",
      "File \u001B[0;32m/opt/homebrew/Cellar/python@3.11/3.11.7_1/Frameworks/Python.framework/Versions/3.11/lib/python3.11/urllib/request.py:643\u001B[0m, in \u001B[0;36mHTTPDefaultErrorHandler.http_error_default\u001B[0;34m(self, req, fp, code, msg, hdrs)\u001B[0m\n\u001B[1;32m    642\u001B[0m \u001B[38;5;28;01mdef\u001B[39;00m \u001B[38;5;21mhttp_error_default\u001B[39m(\u001B[38;5;28mself\u001B[39m, req, fp, code, msg, hdrs):\n\u001B[0;32m--> 643\u001B[0m     \u001B[38;5;28;01mraise\u001B[39;00m HTTPError(req\u001B[38;5;241m.\u001B[39mfull_url, code, msg, hdrs, fp)\n",
      "\u001B[0;31mHTTPError\u001B[0m: HTTP Error 404: Not Found"
     ]
    }
   ],
   "execution_count": 1
  },
  {
   "cell_type": "markdown",
   "id": "7c5b1a914949961b",
   "metadata": {},
   "source": []
  },
  {
   "cell_type": "code",
   "id": "a87b8b5108d5df3",
   "metadata": {},
   "source": [
    "# we can get the exact size of the dataframe using the shape attribute\n",
    "df.shape"
   ],
   "outputs": [],
   "execution_count": null
  },
  {
   "cell_type": "code",
   "id": "afc08bfcfe859104",
   "metadata": {},
   "source": [
    "# we can also get a list of the columns in the dataframe\n",
    "df.columns"
   ],
   "outputs": [],
   "execution_count": null
  },
  {
   "cell_type": "code",
   "id": "d0ffec16f2de505e",
   "metadata": {},
   "source": [
    "# lets try to do some descriptive analysis of a few variables we're interested in\n",
    "# we can make a subset of the dataframe by selecting the columns we want in square brackets\n",
    "# and then use the describe() function to get some basic statistics\n",
    "df[['age', 'postop_heart_rate', 'net_fluid_balance_ml', 'postop_pain_score']].describe()\n"
   ],
   "outputs": [],
   "execution_count": null
  },
  {
   "cell_type": "code",
   "id": "331f3bc5ca5b2c65",
   "metadata": {},
   "source": [
    "# That's weird - the heart rate wasn't included there. Let's see if we can figure out why\n",
    "df.postop_heart_rate"
   ],
   "outputs": [],
   "execution_count": null
  },
  {
   "cell_type": "code",
   "id": "cbb6a846c98666ec",
   "metadata": {},
   "source": [
    "# Ah, it looks like the heart rate column is being treated as an \"object\" (multipurpose type) instead of a number.\n",
    "# Let's convert it to a number and try again\n",
    "\n",
    "df.postop_heart_rate.astype(int).describe()"
   ],
   "outputs": [],
   "execution_count": null
  },
  {
   "cell_type": "code",
   "id": "6b1258743b21d346",
   "metadata": {},
   "source": [
    "# It is complaining that it doesn't know how to convert 72bpm to an integer. Let's force them to be numbers using \"to_numeric\" function\n",
    "\n",
    "pd.to_numeric(df.postop_heart_rate, errors='coerce').describe()"
   ],
   "outputs": [],
   "execution_count": null
  },
  {
   "cell_type": "code",
   "id": "adf4943b86d29cd2",
   "metadata": {},
   "source": [
    "# That worked! Now we can see the heart rate statistics well. we can assign it back to the dataframe to make it permanent\n",
    "df[\"postop_heart_rate\"] = pd.to_numeric(df.postop_heart_rate, errors='coerce')"
   ],
   "outputs": [],
   "execution_count": null
  },
  {
   "cell_type": "code",
   "id": "9009dccc8d714ab5",
   "metadata": {},
   "source": [
    "#  We can also slice and dice the data with filters and groupings. For example, we can see if there was a difference in HR based on whether the patient had an unexpected ICU admission or not.\n",
    "\n",
    "df.groupby('unanticipated_icu_admission')['postop_heart_rate'].describe()\n"
   ],
   "outputs": [],
   "execution_count": null
  },
  {
   "cell_type": "code",
   "id": "6d69c926cc58cbc9",
   "metadata": {},
   "source": [
    "# graphing is also easy with pandas. Let's make a histogram of the fluid balance\n",
    "\n",
    "df['net_fluid_balance_ml'].plot.hist(bins=20, alpha=0.5)"
   ],
   "outputs": [],
   "execution_count": null
  },
  {
   "cell_type": "code",
   "id": "6f6e58f86879cc2e",
   "metadata": {},
   "source": [
    "# we can also make a scatter plot to see if there is a relationship between fluid balance and heart rate\n",
    "df.plot.scatter(x='net_fluid_balance_ml', y='postop_heart_rate')"
   ],
   "outputs": [],
   "execution_count": null
  },
  {
   "cell_type": "code",
   "id": "e18449939bc7cc7c",
   "metadata": {},
   "source": [
    "# who is this person who lost 5L and has a heart rate of 50?\n",
    "df[df['net_fluid_balance_ml'] < -4000]"
   ],
   "outputs": [],
   "execution_count": null
  },
  {
   "cell_type": "code",
   "id": "1f893890e30e0a7",
   "metadata": {},
   "source": [
    "# can also sort/get frequency data - lets see which were the most common procedures\n",
    "df['procedure_primary'].value_counts().head(8)"
   ],
   "outputs": [],
   "execution_count": null
  },
  {
   "cell_type": "code",
   "id": "eef6db525b6b6430",
   "metadata": {},
   "source": [
    "# lets make a scatter plot of age and anesthesia_duration_minutes, with the color representing unanticipated ICU admission\n",
    "df.plot.scatter(x='age', y='anesthesia_duration_minutes', color=df['unanticipated_icu_admission'])"
   ],
   "outputs": [],
   "execution_count": null
  },
  {
   "cell_type": "markdown",
   "id": "4016c86dca500538",
   "metadata": {
    "jp-MarkdownHeadingCollapsed": true
   },
   "source": [
    "#### The good news - AI can do most of this for you. \n",
    "\n",
    "Next, we're going to walk through a simple analysis using ChatGPT. If you have an account, sign in. Otherwise, there is a totally free version that you can use without logging in at [ChatGPT.com](https://chatgpt.com).\n",
    "\n",
    "#### Here are the prompts we are going to use:\n",
    "\n",
    "- We are going to go through a practice exercise with medical resident physicians on how to use ChatGPT Data Analyst. First, create me a data set that is 100 rows about teen obesity in the United States and interesting variables so we can practice data analysis. \n",
    "- Clean and format this data if needed. \n",
    "- Analyze this data set and give me some insights about obesity among teens.\n",
    "- Visualize these insights.\n",
    "- Create a pie chart for BMI category distribution among teens in the U.S.\n",
    "- Now, create a new synthetic data set with 12 rows including hospital's revenue, surgical volume, patient volume, weather, and other interesting variables by month. Clean and format this data. \n",
    "- Create a line graph showing revenue for this specific year. Make this a dual axis line graph and add in surgical volume on the second y-axis. \n",
    "- Give me links where I can download the cleaned data set as •csv file and the python code for the analysis.\n",
    "\n"
   ]
  }
 ],
 "metadata": {
  "kernelspec": {
   "display_name": "Python 3 (ipykernel)",
   "language": "python",
   "name": "python3"
  },
  "language_info": {
   "codemirror_mode": {
    "name": "ipython",
    "version": 3
   },
   "file_extension": ".py",
   "mimetype": "text/x-python",
   "name": "python",
   "nbconvert_exporter": "python",
   "pygments_lexer": "ipython3",
   "version": "3.11.7"
  }
 },
 "nbformat": 4,
 "nbformat_minor": 5
}
