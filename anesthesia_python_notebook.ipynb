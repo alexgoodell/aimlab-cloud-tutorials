{
 "cells": [
  {
   "cell_type": "markdown",
   "id": "98cd0ee0-8380-4882-8398-bc2972687516",
   "metadata": {},
   "source": [
    "## Weclome\n",
    "\n",
    "### What is this?\n",
    "This session _(Advanced AI: Using Large Language Models for Data Analysis)_ is designed to introduce basic programming skills. The focus is on practical applications of coding in healthcare settings, with the aim of getting you comfortable with the basics; we hope you can apply these skills to automate the boring things in your life,  maybe use some of this in a research project, and overall just feel less intimidated by the idea. \n",
    "\n",
    "### Where am I?\n",
    "This is a private \"Jupyter notebook\" hosted on one of the AIM lab comupters. Jupyter notebooks are a mixture of a normal document, like Microsoft Word, mixed in with usable programming areas. This makes it really easy to follow along with someone elses code or do a tutorial. The most commonly-used noteboks these days is [Google Colab](https://colab.google.com). Google offers a free notebook to every Google account, where you can run your own scripts without downloading anything! This website, the AIM Lab Cloud, is similar to Google collab, except that it is private and pre-loaded with some data for today's exercise. \n"
   ]
  },
  {
   "cell_type": "markdown",
   "id": "eac47735-8301-4bae-938a-b643aa5fa876",
   "metadata": {},
   "source": [
    "## About Notebooks\n",
    "### Cells\n",
    "Notebooks are broken into \"cells\" which have one can either contain just text (like this one) or can contain some code; this code can be edited and run. \n",
    "\n",
    "The cell below this is a simple command in Python to print out a phrase with a name. Click on it to edit it, and change the name to you own. Keep the quotation mark ```\"``` in place and only change the name.  Once you are satisfied, press the \"play\" button (►) at the top or press shift-enter to run that cell."
   ]
  },
  {
   "cell_type": "code",
   "id": "dd6c7788-5033-4806-8587-88ce4c55bb74",
   "metadata": {},
   "source": "print(\"Hi there, Harry Lemmens!\")",
   "outputs": [],
   "execution_count": null
  },
  {
   "cell_type": "markdown",
   "id": "c353d6a7-f69a-4d11-80d6-1083e1b33769",
   "metadata": {},
   "source": [
    "Great job! You have successfully run (or _executed_) your first python script. See, it's not that bad. What if we wanted to seperate the name from the rest of the command? To do that, we'd need to use a __variable__.\n",
    "\n",
    "## Variables\n",
    "Variables are words that represent some other value; the name of a variable can only be letters and numbers (generally lowercase, with spaces  swapped for underscores). There are a bunch of different types of variables, but the most important ones are:\n",
    "\n",
    "- integers (whole numbers)\n",
    "- floats (numbers with decimal places)\n",
    "- strings (sets of characters, such as a word or a sentences)\n",
    "- boolean (true or false, ie bianary)\n",
    "- lists (groups of other variables ordered by their position in the list)\n",
    "- dictionaries (groups of variables ordered by word labels)\n",
    "\n",
    "To assign a value to a variable, you use the equals sign. The value on the right side is stored in the variable on the left side of the equals sign. \n",
    "\n",
    "Note: we can place comments into our code by prefixing something with the pound/hash ```#``` symbol. Comments aren't \"run\" but are just there to help someone understand the code."
   ]
  },
  {
   "cell_type": "code",
   "id": "f99cf0f0-2ddf-439d-8010-a867ce6d83b1",
   "metadata": {},
   "source": [
    "# integer\n",
    "big_number = 1025\n",
    "\n",
    "# float\n",
    "another_big_number = 2310.2315\n",
    "\n",
    "# strings are wrapped in single quotes or double quotes\n",
    "a_good_sentence = \"Just put the tube in\" \n",
    "\n",
    "# booleans are either true or false. In python, True and False are capitalized\n",
    "tube_is_in = True\n",
    "\n",
    "# lists are made using square brackets, with elements seperated by commas. Lists can be made of different variable types.\n",
    "good_variables = [ big_number, another_big_number, a_good_sentence, tube_is_in ]\n",
    "\n",
    "# we can print the whole list to see what is stored inside\n",
    "print(good_variables)"
   ],
   "outputs": [],
   "execution_count": null
  },
  {
   "cell_type": "markdown",
   "id": "e93e6bad-f484-48e4-a075-d439aafaf8a5",
   "metadata": {},
   "source": [
    "Excellent! Notice that the string still has some quotation marks around it - that's how you know it is a string, and how True is capitalized. If it was lowercase, python would think it was a variable name and go looking for what its value was. \n",
    "\n",
    "If we wanted to get just part of a list, we would need to access the elements using their position (also known as _index_). The first position is zero, so if we wanted the value of ```tube_is_in``` we'd have to get the element with the index of three. Here is how you do that:\n"
   ]
  },
  {
   "cell_type": "code",
   "id": "16a057ef-50c8-4c99-92f5-5b45ff341b50",
   "metadata": {},
   "source": [
    "# to access an element within a list, use square brackets after the list name\n",
    "print(good_variables[3])"
   ],
   "outputs": [],
   "execution_count": null
  },
  {
   "cell_type": "markdown",
   "id": "1068474a-3b06-4261-a5f3-0ab095f07d68",
   "metadata": {},
   "source": [
    "Remembering the index within a list is annoying and error-prone, so there is a better way, using _dictionaries_. Dictionaries are like lists except that we can use a string (ie, a set of characters) to reference the element, instead of having to remember its index number. "
   ]
  },
  {
   "cell_type": "code",
   "id": "f852e72e-3c84-428b-a45a-5352d1c516b9",
   "metadata": {},
   "source": [
    "# dictionaries are like lists but are made using the curly brackets. Instead of relying on their\n",
    "# position in the list as their label, they have a key. The main way to assign them is using the colon symbol. \n",
    "residency_facts = { \"Program Name\": \"Stanford Anesthesia\",\n",
    "                    \"Program Director\": \"Marianne Chen\", \n",
    "                    \"Number of Residents\": 52, \n",
    "                    \"Enough Cardiac Experience\": True}\n",
    "\n",
    "# to access an element, you use a similar method to lists, with square brakets, but instead of the index number, you use the key\n",
    "residency_facts[\"Program Director\"]"
   ],
   "outputs": [],
   "execution_count": null
  },
  {
   "cell_type": "markdown",
   "id": "a26a6d7c-1b15-4141-85fe-3021cb9b7b0f",
   "metadata": {},
   "source": [
    "Wonderful! So now we know how to store data in variables. By itself, that is not very useful. To make a useful program, we generally need to compare values and make decisions based on those values. To do that, we need conditional statements, a way to guide the program on what to do based on the value of a variable. The big one is the if/else statements - compare the values of two variables and do something based on that comparison.\n",
    "\n",
    "### Conditional statements\n",
    "\n",
    "Note that if we want to ask whether two variables are equal to each other, we can't use the same phrasing as below \"name = value\" because that is used for assignment. To compare two values, we use double equals signs ```==```. \n",
    "\n",
    "To break up the sections into which instructions to do when, tabs or spaces are used to create a paragraph of statements to complete.\n"
   ]
  },
  {
   "cell_type": "code",
   "id": "34deabfd-794f-4ce1-a5b5-6fce219fc4ee",
   "metadata": {},
   "source": [
    "# assigning the variable big_number a value of 1025\n",
    "our_number = 1025\n",
    "\n",
    "# comparing the value of a variable to the integer 1025\n",
    "if our_number == 1025:\n",
    "    print(\"That's the same number as before, a big number.\")"
   ],
   "outputs": [],
   "execution_count": null
  },
  {
   "cell_type": "markdown",
   "id": "52a5729a-a3cd-4857-9bbc-ea47abe48b7c",
   "metadata": {},
   "source": [
    "You can also include ```else``` statements, and you can compare values not just for equality, but size difference."
   ]
  },
  {
   "cell_type": "code",
   "id": "2cf444e9-4488-4822-b8ea-710cc49e9264",
   "metadata": {},
   "source": [
    "our_number = 1025\n",
    "\n",
    "if our_number > 2000:\n",
    "    print(\"Wow such numbers\")\n",
    "else:\n",
    "    # should be less than or equal to 2000\n",
    "    print(\"Rookie numbers\")"
   ],
   "outputs": [],
   "execution_count": null
  },
  {
   "cell_type": "markdown",
   "id": "89d9bf86-b9a3-4348-bbdd-93a17a67acb9",
   "metadata": {},
   "source": [
    "You can compare any type of value, not just numbers.\n"
   ]
  },
  {
   "cell_type": "code",
   "id": "50fc6b2d-9be5-40a2-920c-9f4a61e3cf0b",
   "metadata": {},
   "source": [
    "old_program_director = \"Alex Macario\"\n",
    "residency_facts = { \"Program Name\": \"Stanford Anesthesia\",\n",
    "                    \"Program Director\": \"Marianne Chen\", \n",
    "                    \"Number of Residents\": 52, \n",
    "                    \"Enough Cardiac Experience\": True}\n",
    "\n",
    "if residency_facts[\"Program Director\"] == old_program_director:\n",
    "    print(\"Same program director as year 2010\")\n",
    "else:\n",
    "    print(\"New program director compared to 2010\")\n"
   ],
   "outputs": [],
   "execution_count": null
  },
  {
   "cell_type": "markdown",
   "id": "0af0ca87-b4ff-4d74-891f-aa3ba7bc514f",
   "metadata": {},
   "source": [
    "Wonderful. \n",
    "\n",
    "### Iteration\n",
    "\n",
    "You might say: \"That is all great guys, but these are really easy and I don't really need a computer to do this kind of work for me. I want a computer for tasks that require a lot of repetative effort.\"\n",
    "\n",
    "This is where iteration can be helpful. Iteration is a way to complete a task many times. For example, imagine we had a list of people's names and we wanted to print their name with the title \"Dr\" in front of it. Doing this manually would take a long time, but we can do it quickly in python.\n",
    "\n",
    "The most common way to iterate is to do a action repeatedly for each element in a list. In some programming languages, this is called ```foreach```. In python, it is just called a ```for``` loop. In a for loop, we give the program a temporary variable that represents the element that we're working on, and it moves through the list until the list is complete.\n"
   ]
  },
  {
   "cell_type": "code",
   "id": "c2df6d7e-46fa-46e0-87d1-d1443f46ca5f",
   "metadata": {},
   "source": [
    "# create a list of names\n",
    "ob_faculty_list = [\"Gill Abrir\", \"Brian Bateman\", \"Andrea Traynor\"]\n",
    "for ob_faculty in ob_faculty_list:\n",
    "    print(\"Dr. \" + ob_faculty)\n",
    "    "
   ],
   "outputs": [],
   "execution_count": null
  },
  {
   "cell_type": "markdown",
   "id": "0dab37f2-1498-45b9-a39e-54f00d8885fb",
   "metadata": {},
   "source": [
    "### Functions\n",
    "\n",
    "With everything up to this point, you could build almost any program imaginable. But it would be painful witout functions - a way to collect processes into organized units.\n",
    "\n",
    "Functions don't do anything that you haven't learned yet, they just make programming easier by reducing the amount of repetition in your code. The work similiarly to functions in math - you have an input variable, some internal processing, and an output variable. In coding, you can have more than one input and more than one output. Let's make the world's most boring function - add \"Dr. \" to someone's name."
   ]
  },
  {
   "cell_type": "code",
   "id": "f99412bb-0c2e-46c1-88f3-20140bb44615",
   "metadata": {},
   "source": [
    "# you start defining a function with the keyword \"def\" \n",
    "# list the input variables within paranthesis, followed by a colon\n",
    "\n",
    "def medical_school(person_name):\n",
    "    doctor_name = \"Dr. \" + person_name\n",
    "    return doctor_name\n",
    "\n",
    "# to run a function, use its name followed by the inputs in parathesis\n",
    "some_guy = \"Billy Bob Man\"\n",
    "foo = medical_school(some_guy)\n",
    "print(foo)"
   ],
   "outputs": [],
   "execution_count": null
  },
  {
   "cell_type": "markdown",
   "id": "96eec6df-4441-46e8-9956-399e1e9676b3",
   "metadata": {},
   "source": "##  Data analysis with Python"
  },
  {
   "cell_type": "markdown",
   "id": "1eaea898d6f10e8d",
   "metadata": {},
   "source": [
    "Python by itself is a powerful tool for data analysis, but it becomes even more powerful when combined with the right libraries. The most popular library for data analysis in Python is Pandas. Pandas is a fast, powerful, and flexible. It is similar to Excel, but with more flexibilty.\n",
    "\n",
    "It is also somewhat confusing to use at first, but once you get the hang of it, it is a very powerful tool.\n",
    "\n"
   ]
  },
  {
   "cell_type": "markdown",
   "id": "7fd1f9223253b52a",
   "metadata": {},
   "source": [
    "#### Dataframes\n",
    "\n",
    "The primary data structure in Pandas is the DataFrame. A DataFrame is a two-dimensional tabular data structure; it is heterogeneous (different data types can be in the same columns) and has labeled axes (rows and columns). One major difference from Excel is that rows and columns aren't treated equally. Rows almost always represent individual observations, while columns represent variables.\n",
    "\n",
    "The easiest way to understand Pandas is to see it in action. \n"
   ]
  },
  {
   "cell_type": "markdown",
   "id": "9b76620fa489dd27",
   "metadata": {},
   "source": [
    "#### Fake dataset\n",
    "\n",
    "I spent way too much time making a fake perioperative patient dataset using a free LLM that was trained on medical record data. The dataset has ~300 rows and ~40 columns. It's stored as a CSV file, which is like an Excel file but without the fancy formatting.\n",
    "\n",
    "Let's load the dataset and take a look at it.\n",
    "\n",
    "Note: Don't worry about how some of this syntax looks very different from normal python code. There's a lot of magic happening behind the scenes to make this work, and it's not important to understand that right now. "
   ]
  },
  {
   "cell_type": "code",
   "id": "b1ab47337d9081e5",
   "metadata": {},
   "source": [
    "# first we need to import the pandas library to\n",
    "# let python know we want to use it.\n",
    "# we assign it the alias pd to make it easier to use\n",
    "import pandas as pd\n",
    "\n",
    "# dataframes are commonly abbreviated as df\n",
    "df = pd.read_csv('https://informatics.stanford.edu/synthetic-periop-dataset')\n",
    "\n",
    "# to look at a dataframe in Jupyter, just finish the cell with the variable name\n",
    "# for large dataframes, you can use the head() function to see the first few rows\n",
    "\n",
    "df.head(5)"
   ],
   "outputs": [],
   "execution_count": null
  },
  {
   "cell_type": "markdown",
   "id": "7c5b1a914949961b",
   "metadata": {},
   "source": []
  },
  {
   "cell_type": "code",
   "id": "a87b8b5108d5df3",
   "metadata": {},
   "source": [
    "# we can get the exact size of the dataframe using the shape attribute\n",
    "df.shape"
   ],
   "outputs": [],
   "execution_count": null
  },
  {
   "cell_type": "code",
   "id": "afc08bfcfe859104",
   "metadata": {},
   "source": [
    "# we can also get a list of the columns in the dataframe\n",
    "df.columns"
   ],
   "outputs": [],
   "execution_count": null
  },
  {
   "cell_type": "code",
   "id": "d0ffec16f2de505e",
   "metadata": {},
   "source": [
    "# lets try to do some descriptive analysis of a few variables we're interested in\n",
    "# we can make a subset of the dataframe by selecting the columns we want in square brackets\n",
    "# and then use the describe() function to get some basic statistics\n",
    "df[['age', 'postop_heart_rate', 'net_fluid_balance_ml', 'postop_pain_score']].describe()\n"
   ],
   "outputs": [],
   "execution_count": null
  },
  {
   "cell_type": "code",
   "id": "331f3bc5ca5b2c65",
   "metadata": {},
   "source": [
    "# That's weird - the heart rate wasn't included there. Let's see if we can figure out why\n",
    "df.postop_heart_rate"
   ],
   "outputs": [],
   "execution_count": null
  },
  {
   "cell_type": "code",
   "id": "cbb6a846c98666ec",
   "metadata": {},
   "source": [
    "# Ah, it looks like the heart rate column is being treated as an \"object\" (multipurpose type) instead of a number.\n",
    "# Let's convert it to a number and try again\n",
    "\n",
    "df.postop_heart_rate.astype(int).describe()"
   ],
   "outputs": [],
   "execution_count": null
  },
  {
   "cell_type": "code",
   "id": "6b1258743b21d346",
   "metadata": {},
   "source": [
    "# It is complaining that it doesn't know how to convert 72bpm to an integer. Let's force them to be numbers using \"to_numeric\" function\n",
    "\n",
    "pd.to_numeric(df.postop_heart_rate, errors='coerce').describe()"
   ],
   "outputs": [],
   "execution_count": null
  },
  {
   "cell_type": "code",
   "id": "adf4943b86d29cd2",
   "metadata": {},
   "source": [
    "# That worked! Now we can see the heart rate statistics well. we can assign it back to the dataframe to make it permanent\n",
    "df[\"postop_heart_rate\"] = pd.to_numeric(df.postop_heart_rate, errors='coerce')"
   ],
   "outputs": [],
   "execution_count": null
  },
  {
   "cell_type": "code",
   "id": "9009dccc8d714ab5",
   "metadata": {},
   "source": [
    "#  We can also slice and dice the data with filters and groupings. For example, we can see if there was a difference in HR based on whether the patient had an unexpected ICU admission or not.\n",
    "\n",
    "df.groupby('unanticipated_icu_admission')['postop_heart_rate'].describe()\n"
   ],
   "outputs": [],
   "execution_count": null
  },
  {
   "cell_type": "code",
   "id": "6d69c926cc58cbc9",
   "metadata": {},
   "source": [
    "# graphing is also easy with pandas. Let's make a histogram of the fluid balance\n",
    "\n",
    "df['net_fluid_balance_ml'].plot.hist(bins=20, alpha=0.5)"
   ],
   "outputs": [],
   "execution_count": null
  },
  {
   "cell_type": "code",
   "id": "6f6e58f86879cc2e",
   "metadata": {},
   "source": [
    "# we can also make a scatter plot to see if there is a relationship between fluid balance and heart rate\n",
    "df.plot.scatter(x='net_fluid_balance_ml', y='postop_heart_rate')"
   ],
   "outputs": [],
   "execution_count": null
  },
  {
   "cell_type": "code",
   "id": "e18449939bc7cc7c",
   "metadata": {},
   "source": [
    "# who is this person who lost 5L and has a heart rate of 50?\n",
    "df[df['net_fluid_balance_ml'] < -4000]"
   ],
   "outputs": [],
   "execution_count": null
  },
  {
   "cell_type": "code",
   "id": "1f893890e30e0a7",
   "metadata": {},
   "source": [
    "# can also sort/get frequency data - lets see which were the most common procedures\n",
    "df['procedure_primary'].value_counts().head(8)"
   ],
   "outputs": [],
   "execution_count": null
  },
  {
   "cell_type": "code",
   "id": "eef6db525b6b6430",
   "metadata": {},
   "source": [
    "# lets make a scatter plot of age and anesthesia_duration_minutes, with the color representing unanticipated ICU admission\n",
    "df.plot.scatter(x='age', y='anesthesia_duration_minutes', color=df['unanticipated_icu_admission'])"
   ],
   "outputs": [],
   "execution_count": null
  },
  {
   "cell_type": "markdown",
   "id": "4016c86dca500538",
   "metadata": {
    "jp-MarkdownHeadingCollapsed": true
   },
   "source": [
    "#### The good news - AI can do most of this for you. \n",
    "\n",
    "Next, we're going to walk through a simple analysis using ChatGPT. If you have an account, sign in. Otherwise, there is a totally free version that you can use without logging in at [ChatGPT.com](https://chatgpt.com).\n",
    "\n",
    "#### Here are the prompts we are going to use:\n",
    "\n",
    "- We are going to go through a practice exercise with medical resident physicians on how to use ChatGPT Data Analyst. First, create a data set that is 100 rows about teen obesity in the United States and interesting variables so we can practice data analysis. \n",
    "- Clean and format this data if needed. \n",
    "- Analyze this data set and give me some insights about obesity among teens.\n",
    "- Visualize these insights.\n",
    "- Create a pie chart for BMI category distribution among teens in the U.S.\n",
    "- Now, create a new synthetic data set with 12 rows including hospital's revenue, surgical volume, patient volume, weather, and other interesting variables by month. Clean and format this data. \n",
    "- Create a line graph showing revenue for this specific year. Make this a dual axis line graph and add in surgical volume on the second y-axis. \n",
    "- Give me links where I can download the cleaned data set as •csv file and the python code for the analysis.\n",
    "\n"
   ]
  },
  {
   "metadata": {},
   "cell_type": "code",
   "outputs": [],
   "execution_count": null,
   "source": "",
   "id": "ed5a22ecfd59cf93"
  }
 ],
 "metadata": {
  "kernelspec": {
   "display_name": "Python 3 (ipykernel)",
   "language": "python",
   "name": "python3"
  },
  "language_info": {
   "codemirror_mode": {
    "name": "ipython",
    "version": 3
   },
   "file_extension": ".py",
   "mimetype": "text/x-python",
   "name": "python",
   "nbconvert_exporter": "python",
   "pygments_lexer": "ipython3",
   "version": "3.11.7"
  }
 },
 "nbformat": 4,
 "nbformat_minor": 5
}
