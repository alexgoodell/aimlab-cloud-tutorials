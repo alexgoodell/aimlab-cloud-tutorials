{
 "cells": [
  {
   "cell_type": "markdown",
   "id": "98cd0ee0-8380-4882-8398-bc2972687516",
   "metadata": {},
   "source": [
    "# Weclome\n",
    "\n",
    "### What is this?\n",
    "This course _(Advanced AI: Using Large Language Models for Data Analysis)_ is designed to introduce basic programming skills. The focus is on practical applications of coding in healthcare settings, with the aim of getting you comfortable with the basics; we hope you can apply these skills to automate the boring things in your life,  maybe use some of this in a research project, and overall just feel less intimidated by the idea. \n",
    "\n",
    "### Where am I?\n",
    "This is a private \"Jupyter notebook\" hosted on one of the AIM lab comupters. Jupyter notebooks are a mixture of a normal document, like Microsoft Word, mixed in with usable programming areas. This makes it really easy to follow along with someone elses code or do a tutorial. The most commonly-used noteboks these days is [Google Colab](https://colab.google.com). Google offers a free notebook to every Google account, where you can run your own scripts without downloading anything! This website, the AIM Lab Cloud, is similar to Google collab, except that it is private and pre-loaded with some data for today's exercise. \n",
    "\n",
    "# About Notebooks\n",
    "### Cells\n",
    "Notebooks are broken into \"cells\" which have one can either contain just text (like this one) or can contain some code; this code can be edited and run. \n",
    "\n",
    "The cell below this is a simple command in Python to print out a phrase with a name. Click on it to edit it, and change the name to you own. Keep the quotation mark ```\"``` in place and only change the name.  Once you are satisfied, press the \"play\" button (►) at the top or press shift-enter to run that cell."
   ]
  },
  {
   "cell_type": "code",
   "id": "dd6c7788-5033-4806-8587-88ce4c55bb74",
   "metadata": {
    "ExecuteTime": {
     "end_time": "2024-07-29T06:08:08.643013Z",
     "start_time": "2024-07-29T06:08:08.635997Z"
    }
   },
   "source": [
    "from pandas.core.dtypes.inference import is_number\n",
    "\n",
    "print(\"Hi there, Harry Lemmens!\")"
   ],
   "outputs": [
    {
     "name": "stdout",
     "output_type": "stream",
     "text": [
      "Hi there, Harry Lemmens!\n"
     ]
    }
   ],
   "execution_count": 1
  },
  {
   "cell_type": "markdown",
   "id": "c353d6a7-f69a-4d11-80d6-1083e1b33769",
   "metadata": {},
   "source": [
    "Great job! You have successfully run (or _executed_) your first python script. See, it's not that bad. What if we wanted to seperate the name from the rest of the command? To do that, we'd need to use a __variable__.\n",
    "\n",
    "# Variables\n",
    "Variables are words that represent some other value; the name of a variable can only be letters and numbers (generally lowercase, with spaces  swapped for underscores). There are a bunch of different types of variables, but the most important ones are:\n",
    "\n",
    "- integers (whole numbers)\n",
    "- floats (numbers with decimal places)\n",
    "- strings (sets of characters, such as a word or a sentences)\n",
    "- boolean (true or false, ie bianary)\n",
    "- lists (groups of other variables ordered by their position in the list)\n",
    "- dictionaries (groups of variables ordered by word labels)\n",
    "\n",
    "To assign a value to a variable, you use the equals sign. The value on the right side is stored in the variable on the left side of the equals sign. \n",
    "\n",
    "Note: we can place comments into our code by prefixing something with the pound/hash ```#``` symbol. Comments aren't \"run\" but are just there to help someone understand the code."
   ]
  },
  {
   "cell_type": "code",
   "id": "f99cf0f0-2ddf-439d-8010-a867ce6d83b1",
   "metadata": {
    "ExecuteTime": {
     "end_time": "2024-07-29T06:08:08.681741Z",
     "start_time": "2024-07-29T06:08:08.674711Z"
    }
   },
   "source": [
    "# integer\n",
    "big_number = 1025\n",
    "\n",
    "# float\n",
    "another_big_number = 2310.2315\n",
    "\n",
    "# strings are wrapped in single quotes or double quotes\n",
    "a_good_sentence = \"Just put the tube in\" \n",
    "\n",
    "# booleans are either true or false. In python, True and False are capitalized\n",
    "tube_is_in = True\n",
    "\n",
    "# lists are made using square brackets, with elements seperated by commas. Lists can be made of different variable types.\n",
    "good_variables = [ big_number, another_big_number, a_good_sentence, tube_is_in ]\n",
    "\n",
    "# we can print the whole list to see what is stored inside\n",
    "print(good_variables)"
   ],
   "outputs": [
    {
     "name": "stdout",
     "output_type": "stream",
     "text": [
      "[1025, 2310.2315, 'Just put the tube in', True]\n"
     ]
    }
   ],
   "execution_count": 2
  },
  {
   "cell_type": "markdown",
   "id": "e93e6bad-f484-48e4-a075-d439aafaf8a5",
   "metadata": {},
   "source": [
    "Excellent! Notice that the string still has some quotation marks around it - that's how you know it is a string, and how True is capitalized. If it was lowercase, python would think it was a variable name and go looking for what its value was. \n",
    "\n",
    "If we wanted to get just part of a list, we would need to access the elements using their position (also known as _index_). The first position is zero, so if we wanted the value of ```tube_is_in``` we'd have to get the element with the index of three. Here is how you do that:\n"
   ]
  },
  {
   "cell_type": "code",
   "id": "16a057ef-50c8-4c99-92f5-5b45ff341b50",
   "metadata": {
    "ExecuteTime": {
     "end_time": "2024-07-29T06:08:08.885209Z",
     "start_time": "2024-07-29T06:08:08.880925Z"
    }
   },
   "source": [
    "# to access an element within a list, use square brackets after the list name\n",
    "print(good_variables[3])"
   ],
   "outputs": [
    {
     "name": "stdout",
     "output_type": "stream",
     "text": [
      "True\n"
     ]
    }
   ],
   "execution_count": 3
  },
  {
   "cell_type": "markdown",
   "id": "1068474a-3b06-4261-a5f3-0ab095f07d68",
   "metadata": {},
   "source": [
    "Remembering the index within a list is annoying and error-prone, so there is a better way, using _dictionaries_. Dictionaries are like lists except that we can use a string (ie, a set of characters) to reference the element, instead of having to remember its index number. "
   ]
  },
  {
   "cell_type": "code",
   "id": "f852e72e-3c84-428b-a45a-5352d1c516b9",
   "metadata": {
    "ExecuteTime": {
     "end_time": "2024-07-29T06:08:08.997998Z",
     "start_time": "2024-07-29T06:08:08.991611Z"
    }
   },
   "source": [
    "# dictionaries are like lists but are made using the curly brackets. Instead of relying on their\n",
    "# position in the list as their label, they have a key. The main way to assign them is using the colon symbol. \n",
    "residency_facts = { \"Program Name\": \"Stanford Anesthesia\",\n",
    "                    \"Program Director\": \"Marianne Chen\", \n",
    "                    \"Number of Residents\": 52, \n",
    "                    \"Enough Cardiac Experience\": True}\n",
    "\n",
    "# to access an element, you use a similar method to lists, with square brakets, but instead of the index number, you use the key\n",
    "residency_facts[\"Program Director\"]"
   ],
   "outputs": [
    {
     "data": {
      "text/plain": [
       "'Marianne Chen'"
      ]
     },
     "execution_count": 4,
     "metadata": {},
     "output_type": "execute_result"
    }
   ],
   "execution_count": 4
  },
  {
   "cell_type": "markdown",
   "id": "a26a6d7c-1b15-4141-85fe-3021cb9b7b0f",
   "metadata": {},
   "source": [
    "Wonderful! So now we know how to store data in variables. By itself, that is not very useful. To make a useful program, we generally need to compare values and make decisions based on those values. To do that, we need conditional statements, a way to guide the program on what to do based on the value of a variable. The big one is the if/else statements - compare the values of two variables and do something based on that comparison.\n",
    "\n",
    "# Conditional statements\n",
    "\n",
    "Note that if we want to ask whether two variables are equal to each other, we can't use the same phrasing as below \"name = value\" because that is used for assignment. To compare two values, we use double equals signs ```==```. \n",
    "\n",
    "To break up the sections into which instructions to do when, tabs or spaces are used to create a paragraph of statements to complete.\n"
   ]
  },
  {
   "cell_type": "code",
   "id": "34deabfd-794f-4ce1-a5b5-6fce219fc4ee",
   "metadata": {
    "ExecuteTime": {
     "end_time": "2024-07-29T06:08:09.145984Z",
     "start_time": "2024-07-29T06:08:09.142530Z"
    }
   },
   "source": [
    "# assigning the variable big_number a value of 1025\n",
    "our_number = 1025\n",
    "\n",
    "# comparing the value of a variable to the integer 1025\n",
    "if our_number == 1025:\n",
    "    print(\"That's the same number as before, a big number.\")"
   ],
   "outputs": [
    {
     "name": "stdout",
     "output_type": "stream",
     "text": [
      "That's the same number as before, a big number.\n"
     ]
    }
   ],
   "execution_count": 5
  },
  {
   "cell_type": "markdown",
   "id": "52a5729a-a3cd-4857-9bbc-ea47abe48b7c",
   "metadata": {},
   "source": [
    "You can also include ```else``` statements, and you can compare values not just for equality, but size difference."
   ]
  },
  {
   "cell_type": "code",
   "id": "2cf444e9-4488-4822-b8ea-710cc49e9264",
   "metadata": {
    "ExecuteTime": {
     "end_time": "2024-07-29T06:08:09.178621Z",
     "start_time": "2024-07-29T06:08:09.175677Z"
    }
   },
   "source": [
    "our_number = 1025\n",
    "\n",
    "if our_number > 2000:\n",
    "    print(\"Wow such numbers\")\n",
    "else:\n",
    "    # should be less than or equal to 2000\n",
    "    print(\"Rookie numbers\")"
   ],
   "outputs": [
    {
     "name": "stdout",
     "output_type": "stream",
     "text": [
      "Rookie numbers\n"
     ]
    }
   ],
   "execution_count": 6
  },
  {
   "cell_type": "markdown",
   "id": "89d9bf86-b9a3-4348-bbdd-93a17a67acb9",
   "metadata": {},
   "source": [
    "You can compare any type of value, not just numbers.\n"
   ]
  },
  {
   "cell_type": "code",
   "id": "50fc6b2d-9be5-40a2-920c-9f4a61e3cf0b",
   "metadata": {
    "ExecuteTime": {
     "end_time": "2024-07-29T06:08:09.269564Z",
     "start_time": "2024-07-29T06:08:09.265516Z"
    }
   },
   "source": [
    "old_program_director = \"Alex Macario\"\n",
    "residency_facts = { \"Program Name\": \"Stanford Anesthesia\",\n",
    "                    \"Program Director\": \"Marianne Chen\", \n",
    "                    \"Number of Residents\": 52, \n",
    "                    \"Enough Cardiac Experience\": True}\n",
    "\n",
    "if residency_facts[\"Program Director\"] == old_program_director:\n",
    "    print(\"Same program director as year 2010\")\n",
    "else:\n",
    "    print(\"New program director compared to 2010\")\n"
   ],
   "outputs": [
    {
     "name": "stdout",
     "output_type": "stream",
     "text": [
      "New program director compared to 2010\n"
     ]
    }
   ],
   "execution_count": 7
  },
  {
   "cell_type": "markdown",
   "id": "0af0ca87-b4ff-4d74-891f-aa3ba7bc514f",
   "metadata": {},
   "source": [
    "Wonderful. \n",
    "\n",
    "# Iteration\n",
    "\n",
    "You might say: \"That is all great guys, but these are really easy and I don't really need a computer to do this kind of work for me. I want a computer for tasks that require a lot of repetative effort.\"\n",
    "\n",
    "This is where iteration can be helpful. Iteration is a way to complete a task many times. For example, imagine we had a list of people's names and we wanted to print their name with the title \"Dr\" in front of it. Doing this manually would take a long time, but we can do it quickly in python.\n",
    "\n",
    "The most common way to iterate is to do a action repeatedly for each element in a list. In some programming languages, this is called ```foreach```. In python, it is just called a ```for``` loop. In a for loop, we give the program a temporary variable that represents the element that we're working on, and it moves through the list until the list is complete.\n"
   ]
  },
  {
   "cell_type": "code",
   "id": "c2df6d7e-46fa-46e0-87d1-d1443f46ca5f",
   "metadata": {
    "ExecuteTime": {
     "end_time": "2024-07-29T06:08:09.327777Z",
     "start_time": "2024-07-29T06:08:09.323933Z"
    }
   },
   "source": [
    "# create a list of names\n",
    "ob_faculty_list = [\"Gill Abrir\", \"Brian Bateman\", \"Andrea Traynor\"]\n",
    "for ob_faculty in ob_faculty_list:\n",
    "    print(\"Dr. \" + ob_faculty)\n",
    "    "
   ],
   "outputs": [
    {
     "name": "stdout",
     "output_type": "stream",
     "text": [
      "Dr. Gill Abrir\n",
      "Dr. Brian Bateman\n",
      "Dr. Andrea Traynor\n"
     ]
    }
   ],
   "execution_count": 8
  },
  {
   "cell_type": "markdown",
   "id": "0dab37f2-1498-45b9-a39e-54f00d8885fb",
   "metadata": {},
   "source": [
    "# Functions\n",
    "\n",
    "With everything up to this point, you could build almost any program imaginable. But it would be painful witout functions - a way to collect processes into organized units.\n",
    "\n",
    "Functions don't do anything that you haven't learned yet, they just make programming easier by reducing the amount of repetition in your code. The work similiarly to functions in math - you have an input variable, some internal processing, and an output variable. In coding, you can have more than one input and more than one output. Let's make the world's most boring function - add \"Dr. \" to someone's name."
   ]
  },
  {
   "cell_type": "code",
   "id": "f99412bb-0c2e-46c1-88f3-20140bb44615",
   "metadata": {
    "ExecuteTime": {
     "end_time": "2024-07-29T06:08:09.391242Z",
     "start_time": "2024-07-29T06:08:09.387233Z"
    }
   },
   "source": [
    "# you start defining a function with the keyword \"def\" \n",
    "# list the input variables within paranthesis, followed by a colon\n",
    "\n",
    "def medical_school(person_name):\n",
    "    doctor_name = \"Dr. \" + person_name\n",
    "    return doctor_name\n",
    "\n",
    "# to run a function, use its name followed by the inputs in parathesis\n",
    "some_guy = \"Billy Bob Man\"\n",
    "foo = medical_school(some_guy)\n",
    "print(foo)"
   ],
   "outputs": [
    {
     "name": "stdout",
     "output_type": "stream",
     "text": [
      "Dr. Billy Bob Man\n"
     ]
    }
   ],
   "execution_count": 9
  },
  {
   "cell_type": "markdown",
   "id": "96eec6df-4441-46e8-9956-399e1e9676b3",
   "metadata": {},
   "source": [
    "# Data analysis with Python"
   ]
  },
  {
   "metadata": {},
   "cell_type": "markdown",
   "source": [
    "Python by itself is a powerful tool for data analysis, but it becomes even more powerful when combined with the right libraries. The most popular library for data analysis in Python is Pandas. Pandas is a fast, powerful, and flexible. It is similar to Excel, but with more flexibilty.\n",
    "\n",
    "It is also somewhat confusing to use at first, but once you get the hang of it, it is a very powerful tool.\n",
    "\n"
   ],
   "id": "1eaea898d6f10e8d"
  },
  {
   "metadata": {},
   "cell_type": "markdown",
   "source": [
    "### Dataframes\n",
    "\n",
    "The primary data structure in Pandas is the DataFrame. A DataFrame is a two-dimensional tabular data structure; it is heterogeneous (different data types can be in the same columns) and has labeled axes (rows and columns). One major difference from Excel is that rows and columns aren't treated equally. Rows almost always represent individual observations, while columns represent variables.\n",
    "\n",
    "The easiest way to understand Pandas is to see it in action. \n"
   ],
   "id": "7fd1f9223253b52a"
  },
  {
   "metadata": {},
   "cell_type": "markdown",
   "source": [
    "### Fake dataset\n",
    "\n",
    "I spent way too much time making a fake perioperative patient dataset using a free LLM that was trained on medical record data. The dataset has ~500 rows and 10 columns. It's stored as a CSV file, which is like an Excel file but without the fancy formatting.\n",
    "\n",
    "Let's load the dataset and take a look at it.\n",
    "\n",
    "Note: Don't worry about how some of this syntax looks very different from normal python code. There's a lot of magic happening behind the scenes to make this work, and it's not important to understand that right now. "
   ],
   "id": "9b76620fa489dd27"
  },
  {
   "metadata": {
    "ExecuteTime": {
     "end_time": "2024-07-29T16:08:49.587081Z",
     "start_time": "2024-07-29T16:08:49.577226Z"
    }
   },
   "cell_type": "code",
   "source": [
    "# first we need to import the pandas library to\n",
    "# let python know we want to use it.\n",
    "# we assign it the alias pd to make it easier to use\n",
    "import pandas as pd\n",
    "\n",
    "# dataframes are commonly abbreviated as df\n",
    "df = pd.read_csv('example_data/synthetic_epic_data_export.csv')\n",
    "\n",
    "# to look at a dataframe in Jupyter, just finish the cell with the variable name\n",
    "# for large dataframes, you can use the head() function to see the first few rows\n",
    "\n",
    "df.head(5)"
   ],
   "id": "b1ab47337d9081e5",
   "outputs": [
    {
     "data": {
      "text/plain": [
       "          mrn                                     csn         dob  age sex  \\\n",
       "0  5678901234                      567890123456789012  09/15/1968   55   F   \n",
       "1  1234567890                      123456789012345678  05/03/1945   78   M   \n",
       "2  9876543210                      987654321098765432  11/28/1992   31   O   \n",
       "3   987654321  09876543210987654321098765432109876543  01/05/1962   61   F   \n",
       "4  5678901234                      567890123456789012  02/15/1953   70   M   \n",
       "\n",
       "                                         cpt_primary  \\\n",
       "0                                  45378_Colonoscopy   \n",
       "1                                         33533_CABG   \n",
       "2                 47562_Laparoscopic cholecystectomy   \n",
       "3  0DJ361_Gastric and esophageal varices, ulcerat...   \n",
       "4                0DJ468_Totectomy and Tubal Ligation   \n",
       "\n",
       "                                         icd_primary  \\\n",
       "0            K51.90: Ulcerative colitis, unspecified   \n",
       "1  I25.10: Atherosclerotic heart disease of nativ...   \n",
       "2  K80.20: Calculus of gallbladder without cholec...   \n",
       "3  V97.1: Sucked into jet engine, subsequent enco...   \n",
       "4  C58: Surgical procedures related to fallopian ...   \n",
       "\n",
       "                                       icd_secondary  \\\n",
       "0  E11.9: Type 2 diabetes mellitus without compli...   \n",
       "1              I10: Essential (primary) hypertension   \n",
       "2                                                NaN   \n",
       "3                  V95.2: Struck by falling material   \n",
       "4  Z21.8: Other specified congenital abnormality ...   \n",
       "\n",
       "                                   procedure_primary  \\\n",
       "0                            COLONOSCOPY WITH BIOPSY   \n",
       "1                    CORONARY ARTERY BYPASS GRAFTING   \n",
       "2                       LAPAROSCOPIC CHOLECYSTECTOMY   \n",
       "3  GASTRIC AND ESOPHAGICAL VARICES ULcerative, wi...   \n",
       "4  TOTAL HYSTERECOSALPINGO-OOPHRECTOMY WITH TUBAL...   \n",
       "\n",
       "                                 procedure_secondary  ...  \\\n",
       "0                          MONITORED ANESTHESIA CARE  ...   \n",
       "1                                 GENERAL ANESTHESIA  ...   \n",
       "2  GENERAL ANESTHESIA WITH POSSIBLE CONVERSION TO...  ...   \n",
       "3                          MONITORED ANESTHESIA CARE  ...   \n",
       "4                          MONITORED ANESTHESIA CARE  ...   \n",
       "\n",
       "  postop_oxygen_saturation postop_blood_pressure_systolic  \\\n",
       "0                     97.0                            128   \n",
       "1                     95.0                            118   \n",
       "2                     98.0                            135   \n",
       "3                     98.0                            120   \n",
       "4                     97.0                            128   \n",
       "\n",
       "  postop_blood_pressure_diastolic  postop_heart_rate  \\\n",
       "0                              82                 68   \n",
       "1                              75                 82   \n",
       "2                              85                 92   \n",
       "3                              75                 62   \n",
       "4                              70                 84   \n",
       "\n",
       "          postop_medication_administered unanticipated_admission  \\\n",
       "0   ondansetron, fentanyl, acetaminophen                   False   \n",
       "1    morphine, acetaminophen, metoprolol                   False   \n",
       "2  ondansetron, hydromorphone, ketorolac                    True   \n",
       "3                            ondansetron                   False   \n",
       "4   morphine, ondansetron, acetaminophen                   False   \n",
       "\n",
       "  unanticipated_icu_admission quality_report_filed  \\\n",
       "0                       False                 True   \n",
       "1                        True                 True   \n",
       "2                       False                False   \n",
       "3                        True                False   \n",
       "4                        True                False   \n",
       "\n",
       "                             quality_report_comments disposition  \n",
       "0  Patient experienced prolonged recovery due to ...        home  \n",
       "1  Unanticipated ICU admission due to postop hemo...         ICU  \n",
       "2                                                NaN       floor  \n",
       "3                                                NaN         ICU  \n",
       "4                                                NaN         ICU  \n",
       "\n",
       "[5 rows x 41 columns]"
      ],
      "text/html": [
       "<div>\n",
       "<style scoped>\n",
       "    .dataframe tbody tr th:only-of-type {\n",
       "        vertical-align: middle;\n",
       "    }\n",
       "\n",
       "    .dataframe tbody tr th {\n",
       "        vertical-align: top;\n",
       "    }\n",
       "\n",
       "    .dataframe thead th {\n",
       "        text-align: right;\n",
       "    }\n",
       "</style>\n",
       "<table border=\"1\" class=\"dataframe\">\n",
       "  <thead>\n",
       "    <tr style=\"text-align: right;\">\n",
       "      <th></th>\n",
       "      <th>mrn</th>\n",
       "      <th>csn</th>\n",
       "      <th>dob</th>\n",
       "      <th>age</th>\n",
       "      <th>sex</th>\n",
       "      <th>cpt_primary</th>\n",
       "      <th>icd_primary</th>\n",
       "      <th>icd_secondary</th>\n",
       "      <th>procedure_primary</th>\n",
       "      <th>procedure_secondary</th>\n",
       "      <th>...</th>\n",
       "      <th>postop_oxygen_saturation</th>\n",
       "      <th>postop_blood_pressure_systolic</th>\n",
       "      <th>postop_blood_pressure_diastolic</th>\n",
       "      <th>postop_heart_rate</th>\n",
       "      <th>postop_medication_administered</th>\n",
       "      <th>unanticipated_admission</th>\n",
       "      <th>unanticipated_icu_admission</th>\n",
       "      <th>quality_report_filed</th>\n",
       "      <th>quality_report_comments</th>\n",
       "      <th>disposition</th>\n",
       "    </tr>\n",
       "  </thead>\n",
       "  <tbody>\n",
       "    <tr>\n",
       "      <th>0</th>\n",
       "      <td>5678901234</td>\n",
       "      <td>567890123456789012</td>\n",
       "      <td>09/15/1968</td>\n",
       "      <td>55</td>\n",
       "      <td>F</td>\n",
       "      <td>45378_Colonoscopy</td>\n",
       "      <td>K51.90: Ulcerative colitis, unspecified</td>\n",
       "      <td>E11.9: Type 2 diabetes mellitus without compli...</td>\n",
       "      <td>COLONOSCOPY WITH BIOPSY</td>\n",
       "      <td>MONITORED ANESTHESIA CARE</td>\n",
       "      <td>...</td>\n",
       "      <td>97.0</td>\n",
       "      <td>128</td>\n",
       "      <td>82</td>\n",
       "      <td>68</td>\n",
       "      <td>ondansetron, fentanyl, acetaminophen</td>\n",
       "      <td>False</td>\n",
       "      <td>False</td>\n",
       "      <td>True</td>\n",
       "      <td>Patient experienced prolonged recovery due to ...</td>\n",
       "      <td>home</td>\n",
       "    </tr>\n",
       "    <tr>\n",
       "      <th>1</th>\n",
       "      <td>1234567890</td>\n",
       "      <td>123456789012345678</td>\n",
       "      <td>05/03/1945</td>\n",
       "      <td>78</td>\n",
       "      <td>M</td>\n",
       "      <td>33533_CABG</td>\n",
       "      <td>I25.10: Atherosclerotic heart disease of nativ...</td>\n",
       "      <td>I10: Essential (primary) hypertension</td>\n",
       "      <td>CORONARY ARTERY BYPASS GRAFTING</td>\n",
       "      <td>GENERAL ANESTHESIA</td>\n",
       "      <td>...</td>\n",
       "      <td>95.0</td>\n",
       "      <td>118</td>\n",
       "      <td>75</td>\n",
       "      <td>82</td>\n",
       "      <td>morphine, acetaminophen, metoprolol</td>\n",
       "      <td>False</td>\n",
       "      <td>True</td>\n",
       "      <td>True</td>\n",
       "      <td>Unanticipated ICU admission due to postop hemo...</td>\n",
       "      <td>ICU</td>\n",
       "    </tr>\n",
       "    <tr>\n",
       "      <th>2</th>\n",
       "      <td>9876543210</td>\n",
       "      <td>987654321098765432</td>\n",
       "      <td>11/28/1992</td>\n",
       "      <td>31</td>\n",
       "      <td>O</td>\n",
       "      <td>47562_Laparoscopic cholecystectomy</td>\n",
       "      <td>K80.20: Calculus of gallbladder without cholec...</td>\n",
       "      <td>NaN</td>\n",
       "      <td>LAPAROSCOPIC CHOLECYSTECTOMY</td>\n",
       "      <td>GENERAL ANESTHESIA WITH POSSIBLE CONVERSION TO...</td>\n",
       "      <td>...</td>\n",
       "      <td>98.0</td>\n",
       "      <td>135</td>\n",
       "      <td>85</td>\n",
       "      <td>92</td>\n",
       "      <td>ondansetron, hydromorphone, ketorolac</td>\n",
       "      <td>True</td>\n",
       "      <td>False</td>\n",
       "      <td>False</td>\n",
       "      <td>NaN</td>\n",
       "      <td>floor</td>\n",
       "    </tr>\n",
       "    <tr>\n",
       "      <th>3</th>\n",
       "      <td>987654321</td>\n",
       "      <td>09876543210987654321098765432109876543</td>\n",
       "      <td>01/05/1962</td>\n",
       "      <td>61</td>\n",
       "      <td>F</td>\n",
       "      <td>0DJ361_Gastric and esophageal varices, ulcerat...</td>\n",
       "      <td>V97.1: Sucked into jet engine, subsequent enco...</td>\n",
       "      <td>V95.2: Struck by falling material</td>\n",
       "      <td>GASTRIC AND ESOPHAGICAL VARICES ULcerative, wi...</td>\n",
       "      <td>MONITORED ANESTHESIA CARE</td>\n",
       "      <td>...</td>\n",
       "      <td>98.0</td>\n",
       "      <td>120</td>\n",
       "      <td>75</td>\n",
       "      <td>62</td>\n",
       "      <td>ondansetron</td>\n",
       "      <td>False</td>\n",
       "      <td>True</td>\n",
       "      <td>False</td>\n",
       "      <td>NaN</td>\n",
       "      <td>ICU</td>\n",
       "    </tr>\n",
       "    <tr>\n",
       "      <th>4</th>\n",
       "      <td>5678901234</td>\n",
       "      <td>567890123456789012</td>\n",
       "      <td>02/15/1953</td>\n",
       "      <td>70</td>\n",
       "      <td>M</td>\n",
       "      <td>0DJ468_Totectomy and Tubal Ligation</td>\n",
       "      <td>C58: Surgical procedures related to fallopian ...</td>\n",
       "      <td>Z21.8: Other specified congenital abnormality ...</td>\n",
       "      <td>TOTAL HYSTERECOSALPINGO-OOPHRECTOMY WITH TUBAL...</td>\n",
       "      <td>MONITORED ANESTHESIA CARE</td>\n",
       "      <td>...</td>\n",
       "      <td>97.0</td>\n",
       "      <td>128</td>\n",
       "      <td>70</td>\n",
       "      <td>84</td>\n",
       "      <td>morphine, ondansetron, acetaminophen</td>\n",
       "      <td>False</td>\n",
       "      <td>True</td>\n",
       "      <td>False</td>\n",
       "      <td>NaN</td>\n",
       "      <td>ICU</td>\n",
       "    </tr>\n",
       "  </tbody>\n",
       "</table>\n",
       "<p>5 rows × 41 columns</p>\n",
       "</div>"
      ]
     },
     "execution_count": 40,
     "metadata": {},
     "output_type": "execute_result"
    }
   ],
   "execution_count": 40
  },
  {
   "metadata": {},
   "cell_type": "markdown",
   "source": "",
   "id": "7c5b1a914949961b"
  },
  {
   "metadata": {
    "ExecuteTime": {
     "end_time": "2024-07-29T16:08:50.891095Z",
     "start_time": "2024-07-29T16:08:50.887737Z"
    }
   },
   "cell_type": "code",
   "source": [
    "# we can get the exact size of the dataframe using the shape attribute\n",
    "df.shape"
   ],
   "id": "a87b8b5108d5df3",
   "outputs": [
    {
     "data": {
      "text/plain": [
       "(246, 41)"
      ]
     },
     "execution_count": 41,
     "metadata": {},
     "output_type": "execute_result"
    }
   ],
   "execution_count": 41
  },
  {
   "metadata": {
    "ExecuteTime": {
     "end_time": "2024-07-29T16:08:51.576246Z",
     "start_time": "2024-07-29T16:08:51.573743Z"
    }
   },
   "cell_type": "code",
   "source": [
    "# we can also get a list of the columns in the dataframe\n",
    "df.columns"
   ],
   "id": "afc08bfcfe859104",
   "outputs": [
    {
     "data": {
      "text/plain": [
       "Index(['mrn', 'csn', 'dob', 'age', 'sex', 'cpt_primary', 'icd_primary',\n",
       "       'icd_secondary', 'procedure_primary', 'procedure_secondary',\n",
       "       'anesthesia_type', 'anesthesia_start_time', 'anesthesia_end_time',\n",
       "       'anesthesia_duration_minutes', 'day_of_surgery', 'admission_class',\n",
       "       'allergies', 'home_medications', 'problem_list',\n",
       "       'preop_blood_pressure_systolic', 'preop_blood_pressure_diastolic',\n",
       "       'preop_heart_rate', 'preop_temperature_celsius',\n",
       "       'preop_oxygen_saturation', 'intraop_bleeding', 'intraop_hypotension',\n",
       "       'net_fluid_balance_ml', 'postop_pain_score', 'postop_nausea',\n",
       "       'postop_vomiting', 'postop_temperature_celsius',\n",
       "       'postop_oxygen_saturation', 'postop_blood_pressure_systolic',\n",
       "       'postop_blood_pressure_diastolic', 'postop_heart_rate',\n",
       "       'postop_medication_administered', 'unanticipated_admission',\n",
       "       'unanticipated_icu_admission', 'quality_report_filed',\n",
       "       'quality_report_comments', 'disposition'],\n",
       "      dtype='object')"
      ]
     },
     "execution_count": 42,
     "metadata": {},
     "output_type": "execute_result"
    }
   ],
   "execution_count": 42
  },
  {
   "metadata": {
    "ExecuteTime": {
     "end_time": "2024-07-29T16:08:52.071827Z",
     "start_time": "2024-07-29T16:08:52.066162Z"
    }
   },
   "cell_type": "code",
   "source": [
    "# lets try to do some descriptive analysis of a few variables we're interested in\n",
    "# we can make a subset of the dataframe by selecting the columns we want in square brackets\n",
    "# and then use the describe() function to get some basic statistics\n",
    "df[['age', 'postop_heart_rate', 'net_fluid_balance_ml', 'postop_pain_score']].describe()\n"
   ],
   "id": "d0ffec16f2de505e",
   "outputs": [
    {
     "data": {
      "text/plain": [
       "              age  net_fluid_balance_ml  postop_pain_score\n",
       "count  246.000000            245.000000         239.000000\n",
       "mean    53.398374             32.243673           3.945607\n",
       "std     25.047951           1259.666971           2.136412\n",
       "min      0.000000          -5000.000000           0.000000\n",
       "25%     34.250000           -300.000000           3.000000\n",
       "50%     56.000000            -50.000000           4.000000\n",
       "75%     72.750000            100.000000           5.000000\n",
       "max    105.000000          14280.000000          12.000000"
      ],
      "text/html": [
       "<div>\n",
       "<style scoped>\n",
       "    .dataframe tbody tr th:only-of-type {\n",
       "        vertical-align: middle;\n",
       "    }\n",
       "\n",
       "    .dataframe tbody tr th {\n",
       "        vertical-align: top;\n",
       "    }\n",
       "\n",
       "    .dataframe thead th {\n",
       "        text-align: right;\n",
       "    }\n",
       "</style>\n",
       "<table border=\"1\" class=\"dataframe\">\n",
       "  <thead>\n",
       "    <tr style=\"text-align: right;\">\n",
       "      <th></th>\n",
       "      <th>age</th>\n",
       "      <th>net_fluid_balance_ml</th>\n",
       "      <th>postop_pain_score</th>\n",
       "    </tr>\n",
       "  </thead>\n",
       "  <tbody>\n",
       "    <tr>\n",
       "      <th>count</th>\n",
       "      <td>246.000000</td>\n",
       "      <td>245.000000</td>\n",
       "      <td>239.000000</td>\n",
       "    </tr>\n",
       "    <tr>\n",
       "      <th>mean</th>\n",
       "      <td>53.398374</td>\n",
       "      <td>32.243673</td>\n",
       "      <td>3.945607</td>\n",
       "    </tr>\n",
       "    <tr>\n",
       "      <th>std</th>\n",
       "      <td>25.047951</td>\n",
       "      <td>1259.666971</td>\n",
       "      <td>2.136412</td>\n",
       "    </tr>\n",
       "    <tr>\n",
       "      <th>min</th>\n",
       "      <td>0.000000</td>\n",
       "      <td>-5000.000000</td>\n",
       "      <td>0.000000</td>\n",
       "    </tr>\n",
       "    <tr>\n",
       "      <th>25%</th>\n",
       "      <td>34.250000</td>\n",
       "      <td>-300.000000</td>\n",
       "      <td>3.000000</td>\n",
       "    </tr>\n",
       "    <tr>\n",
       "      <th>50%</th>\n",
       "      <td>56.000000</td>\n",
       "      <td>-50.000000</td>\n",
       "      <td>4.000000</td>\n",
       "    </tr>\n",
       "    <tr>\n",
       "      <th>75%</th>\n",
       "      <td>72.750000</td>\n",
       "      <td>100.000000</td>\n",
       "      <td>5.000000</td>\n",
       "    </tr>\n",
       "    <tr>\n",
       "      <th>max</th>\n",
       "      <td>105.000000</td>\n",
       "      <td>14280.000000</td>\n",
       "      <td>12.000000</td>\n",
       "    </tr>\n",
       "  </tbody>\n",
       "</table>\n",
       "</div>"
      ]
     },
     "execution_count": 43,
     "metadata": {},
     "output_type": "execute_result"
    }
   ],
   "execution_count": 43
  },
  {
   "metadata": {
    "ExecuteTime": {
     "end_time": "2024-07-29T16:08:53.032247Z",
     "start_time": "2024-07-29T16:08:53.029543Z"
    }
   },
   "cell_type": "code",
   "source": [
    "# That's weird - the heart rate wasn't included there. Let's see if we can figure out why\n",
    "df.postop_heart_rate"
   ],
   "id": "331f3bc5ca5b2c65",
   "outputs": [
    {
     "data": {
      "text/plain": [
       "0       68\n",
       "1       82\n",
       "2       92\n",
       "3       62\n",
       "4       84\n",
       "      ... \n",
       "241     80\n",
       "242     60\n",
       "243     58\n",
       "244    100\n",
       "245     78\n",
       "Name: postop_heart_rate, Length: 246, dtype: object"
      ]
     },
     "execution_count": 44,
     "metadata": {},
     "output_type": "execute_result"
    }
   ],
   "execution_count": 44
  },
  {
   "metadata": {
    "ExecuteTime": {
     "end_time": "2024-07-29T16:08:53.731236Z",
     "start_time": "2024-07-29T16:08:53.692492Z"
    }
   },
   "cell_type": "code",
   "source": [
    "# Ah, it looks like the heart rate column is being treated as an \"object\" (multipurpose type) instead of a number.\n",
    "# Let's convert it to a number and try again\n",
    "\n",
    "df.postop_heart_rate.astype(int).describe()"
   ],
   "id": "cbb6a846c98666ec",
   "outputs": [
    {
     "ename": "ValueError",
     "evalue": "invalid literal for int() with base 10: '72 bpm'",
     "output_type": "error",
     "traceback": [
      "\u001B[0;31m---------------------------------------------------------------------------\u001B[0m",
      "\u001B[0;31mValueError\u001B[0m                                Traceback (most recent call last)",
      "Cell \u001B[0;32mIn[45], line 4\u001B[0m\n\u001B[1;32m      1\u001B[0m \u001B[38;5;66;03m# Ah, it looks like the heart rate column is being treated as an \"object\" (multipurpose type) instead of a number.\u001B[39;00m\n\u001B[1;32m      2\u001B[0m \u001B[38;5;66;03m# Let's convert it to a number and try again\u001B[39;00m\n\u001B[0;32m----> 4\u001B[0m \u001B[43mdf\u001B[49m\u001B[38;5;241;43m.\u001B[39;49m\u001B[43mpostop_heart_rate\u001B[49m\u001B[38;5;241;43m.\u001B[39;49m\u001B[43mastype\u001B[49m\u001B[43m(\u001B[49m\u001B[38;5;28;43mint\u001B[39;49m\u001B[43m)\u001B[49m\u001B[38;5;241m.\u001B[39mdescribe()\n",
      "File \u001B[0;32m~/.virtualenvs/aimlab.cloud/lib/python3.11/site-packages/pandas/core/generic.py:6643\u001B[0m, in \u001B[0;36mNDFrame.astype\u001B[0;34m(self, dtype, copy, errors)\u001B[0m\n\u001B[1;32m   6637\u001B[0m     results \u001B[38;5;241m=\u001B[39m [\n\u001B[1;32m   6638\u001B[0m         ser\u001B[38;5;241m.\u001B[39mastype(dtype, copy\u001B[38;5;241m=\u001B[39mcopy, errors\u001B[38;5;241m=\u001B[39merrors) \u001B[38;5;28;01mfor\u001B[39;00m _, ser \u001B[38;5;129;01min\u001B[39;00m \u001B[38;5;28mself\u001B[39m\u001B[38;5;241m.\u001B[39mitems()\n\u001B[1;32m   6639\u001B[0m     ]\n\u001B[1;32m   6641\u001B[0m \u001B[38;5;28;01melse\u001B[39;00m:\n\u001B[1;32m   6642\u001B[0m     \u001B[38;5;66;03m# else, only a single dtype is given\u001B[39;00m\n\u001B[0;32m-> 6643\u001B[0m     new_data \u001B[38;5;241m=\u001B[39m \u001B[38;5;28;43mself\u001B[39;49m\u001B[38;5;241;43m.\u001B[39;49m\u001B[43m_mgr\u001B[49m\u001B[38;5;241;43m.\u001B[39;49m\u001B[43mastype\u001B[49m\u001B[43m(\u001B[49m\u001B[43mdtype\u001B[49m\u001B[38;5;241;43m=\u001B[39;49m\u001B[43mdtype\u001B[49m\u001B[43m,\u001B[49m\u001B[43m \u001B[49m\u001B[43mcopy\u001B[49m\u001B[38;5;241;43m=\u001B[39;49m\u001B[43mcopy\u001B[49m\u001B[43m,\u001B[49m\u001B[43m \u001B[49m\u001B[43merrors\u001B[49m\u001B[38;5;241;43m=\u001B[39;49m\u001B[43merrors\u001B[49m\u001B[43m)\u001B[49m\n\u001B[1;32m   6644\u001B[0m     res \u001B[38;5;241m=\u001B[39m \u001B[38;5;28mself\u001B[39m\u001B[38;5;241m.\u001B[39m_constructor_from_mgr(new_data, axes\u001B[38;5;241m=\u001B[39mnew_data\u001B[38;5;241m.\u001B[39maxes)\n\u001B[1;32m   6645\u001B[0m     \u001B[38;5;28;01mreturn\u001B[39;00m res\u001B[38;5;241m.\u001B[39m__finalize__(\u001B[38;5;28mself\u001B[39m, method\u001B[38;5;241m=\u001B[39m\u001B[38;5;124m\"\u001B[39m\u001B[38;5;124mastype\u001B[39m\u001B[38;5;124m\"\u001B[39m)\n",
      "File \u001B[0;32m~/.virtualenvs/aimlab.cloud/lib/python3.11/site-packages/pandas/core/internals/managers.py:430\u001B[0m, in \u001B[0;36mBaseBlockManager.astype\u001B[0;34m(self, dtype, copy, errors)\u001B[0m\n\u001B[1;32m    427\u001B[0m \u001B[38;5;28;01melif\u001B[39;00m using_copy_on_write():\n\u001B[1;32m    428\u001B[0m     copy \u001B[38;5;241m=\u001B[39m \u001B[38;5;28;01mFalse\u001B[39;00m\n\u001B[0;32m--> 430\u001B[0m \u001B[38;5;28;01mreturn\u001B[39;00m \u001B[38;5;28;43mself\u001B[39;49m\u001B[38;5;241;43m.\u001B[39;49m\u001B[43mapply\u001B[49m\u001B[43m(\u001B[49m\n\u001B[1;32m    431\u001B[0m \u001B[43m    \u001B[49m\u001B[38;5;124;43m\"\u001B[39;49m\u001B[38;5;124;43mastype\u001B[39;49m\u001B[38;5;124;43m\"\u001B[39;49m\u001B[43m,\u001B[49m\n\u001B[1;32m    432\u001B[0m \u001B[43m    \u001B[49m\u001B[43mdtype\u001B[49m\u001B[38;5;241;43m=\u001B[39;49m\u001B[43mdtype\u001B[49m\u001B[43m,\u001B[49m\n\u001B[1;32m    433\u001B[0m \u001B[43m    \u001B[49m\u001B[43mcopy\u001B[49m\u001B[38;5;241;43m=\u001B[39;49m\u001B[43mcopy\u001B[49m\u001B[43m,\u001B[49m\n\u001B[1;32m    434\u001B[0m \u001B[43m    \u001B[49m\u001B[43merrors\u001B[49m\u001B[38;5;241;43m=\u001B[39;49m\u001B[43merrors\u001B[49m\u001B[43m,\u001B[49m\n\u001B[1;32m    435\u001B[0m \u001B[43m    \u001B[49m\u001B[43musing_cow\u001B[49m\u001B[38;5;241;43m=\u001B[39;49m\u001B[43musing_copy_on_write\u001B[49m\u001B[43m(\u001B[49m\u001B[43m)\u001B[49m\u001B[43m,\u001B[49m\n\u001B[1;32m    436\u001B[0m \u001B[43m\u001B[49m\u001B[43m)\u001B[49m\n",
      "File \u001B[0;32m~/.virtualenvs/aimlab.cloud/lib/python3.11/site-packages/pandas/core/internals/managers.py:363\u001B[0m, in \u001B[0;36mBaseBlockManager.apply\u001B[0;34m(self, f, align_keys, **kwargs)\u001B[0m\n\u001B[1;32m    361\u001B[0m         applied \u001B[38;5;241m=\u001B[39m b\u001B[38;5;241m.\u001B[39mapply(f, \u001B[38;5;241m*\u001B[39m\u001B[38;5;241m*\u001B[39mkwargs)\n\u001B[1;32m    362\u001B[0m     \u001B[38;5;28;01melse\u001B[39;00m:\n\u001B[0;32m--> 363\u001B[0m         applied \u001B[38;5;241m=\u001B[39m \u001B[38;5;28;43mgetattr\u001B[39;49m\u001B[43m(\u001B[49m\u001B[43mb\u001B[49m\u001B[43m,\u001B[49m\u001B[43m \u001B[49m\u001B[43mf\u001B[49m\u001B[43m)\u001B[49m\u001B[43m(\u001B[49m\u001B[38;5;241;43m*\u001B[39;49m\u001B[38;5;241;43m*\u001B[39;49m\u001B[43mkwargs\u001B[49m\u001B[43m)\u001B[49m\n\u001B[1;32m    364\u001B[0m     result_blocks \u001B[38;5;241m=\u001B[39m extend_blocks(applied, result_blocks)\n\u001B[1;32m    366\u001B[0m out \u001B[38;5;241m=\u001B[39m \u001B[38;5;28mtype\u001B[39m(\u001B[38;5;28mself\u001B[39m)\u001B[38;5;241m.\u001B[39mfrom_blocks(result_blocks, \u001B[38;5;28mself\u001B[39m\u001B[38;5;241m.\u001B[39maxes)\n",
      "File \u001B[0;32m~/.virtualenvs/aimlab.cloud/lib/python3.11/site-packages/pandas/core/internals/blocks.py:758\u001B[0m, in \u001B[0;36mBlock.astype\u001B[0;34m(self, dtype, copy, errors, using_cow, squeeze)\u001B[0m\n\u001B[1;32m    755\u001B[0m         \u001B[38;5;28;01mraise\u001B[39;00m \u001B[38;5;167;01mValueError\u001B[39;00m(\u001B[38;5;124m\"\u001B[39m\u001B[38;5;124mCan not squeeze with more than one column.\u001B[39m\u001B[38;5;124m\"\u001B[39m)\n\u001B[1;32m    756\u001B[0m     values \u001B[38;5;241m=\u001B[39m values[\u001B[38;5;241m0\u001B[39m, :]  \u001B[38;5;66;03m# type: ignore[call-overload]\u001B[39;00m\n\u001B[0;32m--> 758\u001B[0m new_values \u001B[38;5;241m=\u001B[39m \u001B[43mastype_array_safe\u001B[49m\u001B[43m(\u001B[49m\u001B[43mvalues\u001B[49m\u001B[43m,\u001B[49m\u001B[43m \u001B[49m\u001B[43mdtype\u001B[49m\u001B[43m,\u001B[49m\u001B[43m \u001B[49m\u001B[43mcopy\u001B[49m\u001B[38;5;241;43m=\u001B[39;49m\u001B[43mcopy\u001B[49m\u001B[43m,\u001B[49m\u001B[43m \u001B[49m\u001B[43merrors\u001B[49m\u001B[38;5;241;43m=\u001B[39;49m\u001B[43merrors\u001B[49m\u001B[43m)\u001B[49m\n\u001B[1;32m    760\u001B[0m new_values \u001B[38;5;241m=\u001B[39m maybe_coerce_values(new_values)\n\u001B[1;32m    762\u001B[0m refs \u001B[38;5;241m=\u001B[39m \u001B[38;5;28;01mNone\u001B[39;00m\n",
      "File \u001B[0;32m~/.virtualenvs/aimlab.cloud/lib/python3.11/site-packages/pandas/core/dtypes/astype.py:237\u001B[0m, in \u001B[0;36mastype_array_safe\u001B[0;34m(values, dtype, copy, errors)\u001B[0m\n\u001B[1;32m    234\u001B[0m     dtype \u001B[38;5;241m=\u001B[39m dtype\u001B[38;5;241m.\u001B[39mnumpy_dtype\n\u001B[1;32m    236\u001B[0m \u001B[38;5;28;01mtry\u001B[39;00m:\n\u001B[0;32m--> 237\u001B[0m     new_values \u001B[38;5;241m=\u001B[39m \u001B[43mastype_array\u001B[49m\u001B[43m(\u001B[49m\u001B[43mvalues\u001B[49m\u001B[43m,\u001B[49m\u001B[43m \u001B[49m\u001B[43mdtype\u001B[49m\u001B[43m,\u001B[49m\u001B[43m \u001B[49m\u001B[43mcopy\u001B[49m\u001B[38;5;241;43m=\u001B[39;49m\u001B[43mcopy\u001B[49m\u001B[43m)\u001B[49m\n\u001B[1;32m    238\u001B[0m \u001B[38;5;28;01mexcept\u001B[39;00m (\u001B[38;5;167;01mValueError\u001B[39;00m, \u001B[38;5;167;01mTypeError\u001B[39;00m):\n\u001B[1;32m    239\u001B[0m     \u001B[38;5;66;03m# e.g. _astype_nansafe can fail on object-dtype of strings\u001B[39;00m\n\u001B[1;32m    240\u001B[0m     \u001B[38;5;66;03m#  trying to convert to float\u001B[39;00m\n\u001B[1;32m    241\u001B[0m     \u001B[38;5;28;01mif\u001B[39;00m errors \u001B[38;5;241m==\u001B[39m \u001B[38;5;124m\"\u001B[39m\u001B[38;5;124mignore\u001B[39m\u001B[38;5;124m\"\u001B[39m:\n",
      "File \u001B[0;32m~/.virtualenvs/aimlab.cloud/lib/python3.11/site-packages/pandas/core/dtypes/astype.py:182\u001B[0m, in \u001B[0;36mastype_array\u001B[0;34m(values, dtype, copy)\u001B[0m\n\u001B[1;32m    179\u001B[0m     values \u001B[38;5;241m=\u001B[39m values\u001B[38;5;241m.\u001B[39mastype(dtype, copy\u001B[38;5;241m=\u001B[39mcopy)\n\u001B[1;32m    181\u001B[0m \u001B[38;5;28;01melse\u001B[39;00m:\n\u001B[0;32m--> 182\u001B[0m     values \u001B[38;5;241m=\u001B[39m \u001B[43m_astype_nansafe\u001B[49m\u001B[43m(\u001B[49m\u001B[43mvalues\u001B[49m\u001B[43m,\u001B[49m\u001B[43m \u001B[49m\u001B[43mdtype\u001B[49m\u001B[43m,\u001B[49m\u001B[43m \u001B[49m\u001B[43mcopy\u001B[49m\u001B[38;5;241;43m=\u001B[39;49m\u001B[43mcopy\u001B[49m\u001B[43m)\u001B[49m\n\u001B[1;32m    184\u001B[0m \u001B[38;5;66;03m# in pandas we don't store numpy str dtypes, so convert to object\u001B[39;00m\n\u001B[1;32m    185\u001B[0m \u001B[38;5;28;01mif\u001B[39;00m \u001B[38;5;28misinstance\u001B[39m(dtype, np\u001B[38;5;241m.\u001B[39mdtype) \u001B[38;5;129;01mand\u001B[39;00m \u001B[38;5;28missubclass\u001B[39m(values\u001B[38;5;241m.\u001B[39mdtype\u001B[38;5;241m.\u001B[39mtype, \u001B[38;5;28mstr\u001B[39m):\n",
      "File \u001B[0;32m~/.virtualenvs/aimlab.cloud/lib/python3.11/site-packages/pandas/core/dtypes/astype.py:133\u001B[0m, in \u001B[0;36m_astype_nansafe\u001B[0;34m(arr, dtype, copy, skipna)\u001B[0m\n\u001B[1;32m    129\u001B[0m     \u001B[38;5;28;01mraise\u001B[39;00m \u001B[38;5;167;01mValueError\u001B[39;00m(msg)\n\u001B[1;32m    131\u001B[0m \u001B[38;5;28;01mif\u001B[39;00m copy \u001B[38;5;129;01mor\u001B[39;00m arr\u001B[38;5;241m.\u001B[39mdtype \u001B[38;5;241m==\u001B[39m \u001B[38;5;28mobject\u001B[39m \u001B[38;5;129;01mor\u001B[39;00m dtype \u001B[38;5;241m==\u001B[39m \u001B[38;5;28mobject\u001B[39m:\n\u001B[1;32m    132\u001B[0m     \u001B[38;5;66;03m# Explicit copy, or required since NumPy can't view from / to object.\u001B[39;00m\n\u001B[0;32m--> 133\u001B[0m     \u001B[38;5;28;01mreturn\u001B[39;00m \u001B[43marr\u001B[49m\u001B[38;5;241;43m.\u001B[39;49m\u001B[43mastype\u001B[49m\u001B[43m(\u001B[49m\u001B[43mdtype\u001B[49m\u001B[43m,\u001B[49m\u001B[43m \u001B[49m\u001B[43mcopy\u001B[49m\u001B[38;5;241;43m=\u001B[39;49m\u001B[38;5;28;43;01mTrue\u001B[39;49;00m\u001B[43m)\u001B[49m\n\u001B[1;32m    135\u001B[0m \u001B[38;5;28;01mreturn\u001B[39;00m arr\u001B[38;5;241m.\u001B[39mastype(dtype, copy\u001B[38;5;241m=\u001B[39mcopy)\n",
      "\u001B[0;31mValueError\u001B[0m: invalid literal for int() with base 10: '72 bpm'"
     ]
    }
   ],
   "execution_count": 45
  },
  {
   "metadata": {
    "ExecuteTime": {
     "end_time": "2024-07-29T16:08:57.436774Z",
     "start_time": "2024-07-29T16:08:57.432531Z"
    }
   },
   "cell_type": "code",
   "source": [
    "# It is complaining that it doesn't know how to convert 72bpm to an integer. Let's force them to be numbers using \"to_numeric\" function\n",
    "\n",
    "pd.to_numeric(df.postop_heart_rate, errors='coerce').describe()"
   ],
   "id": "6b1258743b21d346",
   "outputs": [
    {
     "data": {
      "text/plain": [
       "count    240.000000\n",
       "mean      73.891667\n",
       "std       12.178791\n",
       "min       42.000000\n",
       "25%       64.000000\n",
       "50%       74.000000\n",
       "75%       82.000000\n",
       "max      106.000000\n",
       "Name: postop_heart_rate, dtype: float64"
      ]
     },
     "execution_count": 46,
     "metadata": {},
     "output_type": "execute_result"
    }
   ],
   "execution_count": 46
  },
  {
   "metadata": {
    "ExecuteTime": {
     "end_time": "2024-07-29T16:08:57.895695Z",
     "start_time": "2024-07-29T16:08:57.893438Z"
    }
   },
   "cell_type": "code",
   "source": [
    "# That worked! Now we can see the heart rate statistics well. we can assign it back to the dataframe to make it permanent\n",
    "df[\"postop_heart_rate\"] = pd.to_numeric(df.postop_heart_rate, errors='coerce')"
   ],
   "id": "adf4943b86d29cd2",
   "outputs": [],
   "execution_count": 47
  },
  {
   "metadata": {
    "ExecuteTime": {
     "end_time": "2024-07-29T16:08:59.319377Z",
     "start_time": "2024-07-29T16:08:59.311177Z"
    }
   },
   "cell_type": "code",
   "source": [
    "#  We can also slice and dice the data with filters and groupings. For example, we can see if there was a difference in HR based on whether the patient had an unexpected ICU admission or not.\n",
    "\n",
    "df.groupby('unanticipated_icu_admission')['postop_heart_rate'].describe()\n"
   ],
   "id": "9009dccc8d714ab5",
   "outputs": [
    {
     "data": {
      "text/plain": [
       "                             count       mean        std   min   25%   50%  \\\n",
       "unanticipated_icu_admission                                                  \n",
       "False                        155.0  74.703226  11.899020  50.0  65.5  74.0   \n",
       "True                          85.0  72.411765  12.609798  42.0  63.0  72.0   \n",
       "\n",
       "                              75%    max  \n",
       "unanticipated_icu_admission               \n",
       "False                        82.0  102.0  \n",
       "True                         82.0  106.0  "
      ],
      "text/html": [
       "<div>\n",
       "<style scoped>\n",
       "    .dataframe tbody tr th:only-of-type {\n",
       "        vertical-align: middle;\n",
       "    }\n",
       "\n",
       "    .dataframe tbody tr th {\n",
       "        vertical-align: top;\n",
       "    }\n",
       "\n",
       "    .dataframe thead th {\n",
       "        text-align: right;\n",
       "    }\n",
       "</style>\n",
       "<table border=\"1\" class=\"dataframe\">\n",
       "  <thead>\n",
       "    <tr style=\"text-align: right;\">\n",
       "      <th></th>\n",
       "      <th>count</th>\n",
       "      <th>mean</th>\n",
       "      <th>std</th>\n",
       "      <th>min</th>\n",
       "      <th>25%</th>\n",
       "      <th>50%</th>\n",
       "      <th>75%</th>\n",
       "      <th>max</th>\n",
       "    </tr>\n",
       "    <tr>\n",
       "      <th>unanticipated_icu_admission</th>\n",
       "      <th></th>\n",
       "      <th></th>\n",
       "      <th></th>\n",
       "      <th></th>\n",
       "      <th></th>\n",
       "      <th></th>\n",
       "      <th></th>\n",
       "      <th></th>\n",
       "    </tr>\n",
       "  </thead>\n",
       "  <tbody>\n",
       "    <tr>\n",
       "      <th>False</th>\n",
       "      <td>155.0</td>\n",
       "      <td>74.703226</td>\n",
       "      <td>11.899020</td>\n",
       "      <td>50.0</td>\n",
       "      <td>65.5</td>\n",
       "      <td>74.0</td>\n",
       "      <td>82.0</td>\n",
       "      <td>102.0</td>\n",
       "    </tr>\n",
       "    <tr>\n",
       "      <th>True</th>\n",
       "      <td>85.0</td>\n",
       "      <td>72.411765</td>\n",
       "      <td>12.609798</td>\n",
       "      <td>42.0</td>\n",
       "      <td>63.0</td>\n",
       "      <td>72.0</td>\n",
       "      <td>82.0</td>\n",
       "      <td>106.0</td>\n",
       "    </tr>\n",
       "  </tbody>\n",
       "</table>\n",
       "</div>"
      ]
     },
     "execution_count": 48,
     "metadata": {},
     "output_type": "execute_result"
    }
   ],
   "execution_count": 48
  },
  {
   "metadata": {
    "ExecuteTime": {
     "end_time": "2024-07-29T16:09:07.789610Z",
     "start_time": "2024-07-29T16:09:07.731391Z"
    }
   },
   "cell_type": "code",
   "source": [
    "# graphing is also easy with pandas. Let's make a histogram of the fluid balance\n",
    "\n",
    "df['net_fluid_balance_ml'].plot.hist(bins=20, alpha=0.5)"
   ],
   "id": "6d69c926cc58cbc9",
   "outputs": [
    {
     "data": {
      "text/plain": [
       "<Axes: ylabel='Frequency'>"
      ]
     },
     "execution_count": 49,
     "metadata": {},
     "output_type": "execute_result"
    },
    {
     "data": {
      "text/plain": [
       "<Figure size 640x480 with 1 Axes>"
      ],
      "image/png": "[encoded data removed]"
     },
     "metadata": {},
     "output_type": "display_data"
    }
   ],
   "execution_count": 49
  },
  {
   "metadata": {
    "ExecuteTime": {
     "end_time": "2024-07-29T16:09:57.849613Z",
     "start_time": "2024-07-29T16:09:57.785323Z"
    }
   },
   "cell_type": "code",
   "source": [
    "# we can also make a scatter plot to see if there is a relationship between fluid balance and heart rate\n",
    "df.plot.scatter(x='net_fluid_balance_ml', y='postop_heart_rate')"
   ],
   "id": "6f6e58f86879cc2e",
   "outputs": [
    {
     "data": {
      "text/plain": [
       "<Axes: xlabel='net_fluid_balance_ml', ylabel='postop_heart_rate'>"
      ]
     },
     "execution_count": 50,
     "metadata": {},
     "output_type": "execute_result"
    },
    {
     "data": {
      "text/plain": [
       "<Figure size 640x480 with 1 Axes>"
      ],
      "image/png": "[encoded data removed]"
     },
     "metadata": {},
     "output_type": "display_data"
    }
   ],
   "execution_count": 50
  },
  {
   "metadata": {
    "ExecuteTime": {
     "end_time": "2024-07-29T16:10:46.740324Z",
     "start_time": "2024-07-29T16:10:46.734059Z"
    }
   },
   "cell_type": "code",
   "source": [
    "# who is this person who lost 5L and has a heart rate of 50?\n",
    "df[df['net_fluid_balance_ml'] < -4000]"
   ],
   "id": "e18449939bc7cc7c",
   "outputs": [
    {
     "data": {
      "text/plain": [
       "          mrn                   csn         dob  age sex  \\\n",
       "37  987654321  09876543210987654321  03/11/1922  102   M   \n",
       "\n",
       "                                        cpt_primary  \\\n",
       "37  23524_Pneumectomy, Right Upper Lobe (Lobectomy)   \n",
       "\n",
       "                                          icd_primary  \\\n",
       "37  C74.8: Carcinoma, unspecified, not otherwise s...   \n",
       "\n",
       "                                        icd_secondary procedure_primary  \\\n",
       "37  T40.9: Other infections of the upper respirato...   LUNAR RESECTION   \n",
       "\n",
       "   procedure_secondary  ... postop_oxygen_saturation  \\\n",
       "37  GENERAL ANESTHESIA  ...                    100.0   \n",
       "\n",
       "   postop_blood_pressure_systolic postop_blood_pressure_diastolic  \\\n",
       "37                            116                              70   \n",
       "\n",
       "    postop_heart_rate postop_medication_administered unanticipated_admission  \\\n",
       "37               50.0                           none                   False   \n",
       "\n",
       "   unanticipated_icu_admission quality_report_filed  \\\n",
       "37                        True                 True   \n",
       "\n",
       "                              quality_report_comments disposition  \n",
       "37  Unanticipated ICU admission due to postop hemo...         ICU  \n",
       "\n",
       "[1 rows x 41 columns]"
      ],
      "text/html": [
       "<div>\n",
       "<style scoped>\n",
       "    .dataframe tbody tr th:only-of-type {\n",
       "        vertical-align: middle;\n",
       "    }\n",
       "\n",
       "    .dataframe tbody tr th {\n",
       "        vertical-align: top;\n",
       "    }\n",
       "\n",
       "    .dataframe thead th {\n",
       "        text-align: right;\n",
       "    }\n",
       "</style>\n",
       "<table border=\"1\" class=\"dataframe\">\n",
       "  <thead>\n",
       "    <tr style=\"text-align: right;\">\n",
       "      <th></th>\n",
       "      <th>mrn</th>\n",
       "      <th>csn</th>\n",
       "      <th>dob</th>\n",
       "      <th>age</th>\n",
       "      <th>sex</th>\n",
       "      <th>cpt_primary</th>\n",
       "      <th>icd_primary</th>\n",
       "      <th>icd_secondary</th>\n",
       "      <th>procedure_primary</th>\n",
       "      <th>procedure_secondary</th>\n",
       "      <th>...</th>\n",
       "      <th>postop_oxygen_saturation</th>\n",
       "      <th>postop_blood_pressure_systolic</th>\n",
       "      <th>postop_blood_pressure_diastolic</th>\n",
       "      <th>postop_heart_rate</th>\n",
       "      <th>postop_medication_administered</th>\n",
       "      <th>unanticipated_admission</th>\n",
       "      <th>unanticipated_icu_admission</th>\n",
       "      <th>quality_report_filed</th>\n",
       "      <th>quality_report_comments</th>\n",
       "      <th>disposition</th>\n",
       "    </tr>\n",
       "  </thead>\n",
       "  <tbody>\n",
       "    <tr>\n",
       "      <th>37</th>\n",
       "      <td>987654321</td>\n",
       "      <td>09876543210987654321</td>\n",
       "      <td>03/11/1922</td>\n",
       "      <td>102</td>\n",
       "      <td>M</td>\n",
       "      <td>23524_Pneumectomy, Right Upper Lobe (Lobectomy)</td>\n",
       "      <td>C74.8: Carcinoma, unspecified, not otherwise s...</td>\n",
       "      <td>T40.9: Other infections of the upper respirato...</td>\n",
       "      <td>LUNAR RESECTION</td>\n",
       "      <td>GENERAL ANESTHESIA</td>\n",
       "      <td>...</td>\n",
       "      <td>100.0</td>\n",
       "      <td>116</td>\n",
       "      <td>70</td>\n",
       "      <td>50.0</td>\n",
       "      <td>none</td>\n",
       "      <td>False</td>\n",
       "      <td>True</td>\n",
       "      <td>True</td>\n",
       "      <td>Unanticipated ICU admission due to postop hemo...</td>\n",
       "      <td>ICU</td>\n",
       "    </tr>\n",
       "  </tbody>\n",
       "</table>\n",
       "<p>1 rows × 41 columns</p>\n",
       "</div>"
      ]
     },
     "execution_count": 51,
     "metadata": {},
     "output_type": "execute_result"
    }
   ],
   "execution_count": 51
  },
  {
   "metadata": {
    "ExecuteTime": {
     "end_time": "2024-07-29T16:12:50.784203Z",
     "start_time": "2024-07-29T16:12:50.779961Z"
    }
   },
   "cell_type": "code",
   "source": [
    "# can also sort/get frequency data - lets see which were the most common procedures\n",
    "df['procedure_primary'].value_counts()\n"
   ],
   "id": "1f893890e30e0a7",
   "outputs": [
    {
     "data": {
      "text/plain": [
       "procedure_primary\n",
       "COLONOSCOPY WITH BIOPSY                                                            26\n",
       "CORONARY ARTERY BYPASS GRAFTING                                                     8\n",
       "HIP ARTHROSCOPY                                                                     3\n",
       "TOTAL HIP ARTHROPLASTY                                                              2\n",
       "BRONCHOSCOPY                                                                        2\n",
       "                                                                                   ..\n",
       "COMPUTED TOMORGRAPHY SCANS                                                          1\n",
       "LAPAROSCOPIC-ASSISTED LAPAROTOMY WITH PARTIAL COLECTOMY AND PRIMARY ANASTOMOSIS     1\n",
       "ESOPHAGOGASTRIC ENDOSCOPY (EGD) WITH ESPHOGASTRODUODENOSCOPY                        1\n",
       "GASTRIC BANDING                                                                     1\n",
       "GASTRIC STAPLING                                                                    1\n",
       "Name: count, Length: 204, dtype: int64"
      ]
     },
     "execution_count": 53,
     "metadata": {},
     "output_type": "execute_result"
    }
   ],
   "execution_count": 53
  },
  {
   "metadata": {
    "ExecuteTime": {
     "end_time": "2024-07-29T16:17:07.105341Z",
     "start_time": "2024-07-29T16:17:07.038996Z"
    }
   },
   "cell_type": "code",
   "source": [
    "# lets make a scatter plot of age and anesthesia_duration_minutes, with the color representing unanticipated ICU admission\n",
    "df.plot.scatter(x='age', y='anesthesia_duration_minutes', color=df['unanticipated_icu_admission'])"
   ],
   "id": "eef6db525b6b6430",
   "outputs": [
    {
     "data": {
      "text/plain": [
       "<Axes: xlabel='age', ylabel='anesthesia_duration_minutes'>"
      ]
     },
     "execution_count": 60,
     "metadata": {},
     "output_type": "execute_result"
    },
    {
     "data": {
      "text/plain": [
       "<Figure size 640x480 with 1 Axes>"
      ],
      "image/png": "[encoded data removed]"
     },
     "metadata": {},
     "output_type": "display_data"
    }
   ],
   "execution_count": 60
  },
  {
   "metadata": {},
   "cell_type": "markdown",
   "source": [
    "#### The good news - AI can do most of this for you. \n",
    "\n",
    "Next, we're going to walk through a simple analysis using ChatGPT. If you have an account, sign in. Otherwise, there is a totally free version that you can use without logging in at [ChatGPT.com](https://chatgpt.com).\n",
    "\n",
    "#### Here are the prompts we are going to use:\n",
    "\n",
    "- We are going to go through a practice exercise with medical resident physicians on how to use ChatGPT Data Analyst. First, create me a data set that is 100 rows about teen obesity in the United States and interesting variables so we can practice data analysis. \n",
    "- Clean and format this data if needed. \n",
    "- Analyze this data set and give me some insights about obesity among teens.\n",
    "- Visualize these insights.\n",
    "- Create a pie chart for BMI category distribution among teens in the U.S.\n",
    "- Now, create a new synthetic data set with 12 rows including hospital's revenue, surgical volume, patient volume, weather, and other interesting variables by month. Clean and format this data. \n",
    "- Create a line graph showing revenue for this specific year. Make this a dual axis line graph and add in surgical volume on the second y-axis. \n",
    "- Give me links where I can download the cleaned data set as •csv file and the python code for the analysis.\n",
    "\n"
   ],
   "id": "4016c86dca500538"
  },
  {
   "metadata": {},
   "cell_type": "code",
   "outputs": [],
   "execution_count": null,
   "source": "",
   "id": "1ef86375cbd960f2"
  }
 ],
 "metadata": {
  "kernelspec": {
   "display_name": "Python 3 (ipykernel)",
   "language": "python",
   "name": "python3"
  },
  "language_info": {
   "codemirror_mode": {
    "name": "ipython",
    "version": 3
   },
   "file_extension": ".py",
   "mimetype": "text/x-python",
   "name": "python",
   "nbconvert_exporter": "python",
   "pygments_lexer": "ipython3",
   "version": "3.10.10"
  }
 },
 "nbformat": 4,
 "nbformat_minor": 5
}
