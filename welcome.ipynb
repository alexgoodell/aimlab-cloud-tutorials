{
 "cells": [
  {
   "cell_type": "markdown",
   "id": "98cd0ee0-8380-4882-8398-bc2972687516",
   "metadata": {},
   "source": [
    "# Weclome\n",
    "\n",
    "### What is this?\n",
    "This course _(Advanced AI: Using Large Language Models for Data Analysis)_ is designed to introduce basic programming skills. The focus is on practical applications of coding in healthcare settings, with the aim of getting you comfortable with the basics; we hope you can apply these skills to automate the boring things in your life,  maybe use some of this in a research project, and overall just feel less intimidated by the idea. \n",
    "\n",
    "### Where am I?\n",
    "This is a private \"Jupyter notebook\" hosted on one of the AIM lab comupters. Jupyter notebooks are a mixture of a normal document, like Microsoft Word, mixed in with usable programming areas. This makes it really easy to follow along with someone elses code or do a tutorial. The most commonly-used noteboks these days is [Google Colab](https://colab.google.com). Google offers a free notebook to every Google account, where you can run your own scripts without downloading anything! This website, the AIM Lab Cloud, is similar to Google collab, except that it is private and pre-loaded with some data for today's exercise. \n",
    "\n",
    "# About Notebooks\n",
    "### Cells\n",
    "Notebooks are broken into \"cells\" which have one can either contain just text (like this one) or can contain some code; this code can be edited and run. \n",
    "\n",
    "The cell below this is a simple command in Python to print out a phrase with a name. Click on it to edit it, and change the name to you own. Keep the quotation mark ```\"``` in place and only change the name.  Once you are satisfied, press the \"play\" button (►) at the top or press shift-enter to run that cell."
   ]
  },
  {
   "cell_type": "code",
   "id": "dd6c7788-5033-4806-8587-88ce4c55bb74",
   "metadata": {
    "ExecuteTime": {
     "end_time": "2024-07-29T06:08:08.643013Z",
     "start_time": "2024-07-29T06:08:08.635997Z"
    }
   },
   "source": [
    "print(\"Hi there, Harry Lemmens!\")"
   ],
   "outputs": [
    {
     "name": "stdout",
     "output_type": "stream",
     "text": [
      "Hi there, Harry Lemmens!\n"
     ]
    }
   ],
   "execution_count": 1
  },
  {
   "cell_type": "markdown",
   "id": "c353d6a7-f69a-4d11-80d6-1083e1b33769",
   "metadata": {},
   "source": [
    "Great job! You have successfully run (or _executed_) your first python script. See, it's not that bad. What if we wanted to seperate the name from the rest of the command? To do that, we'd need to use a __variable__.\n",
    "\n",
    "# Variables\n",
    "Variables are words that represent some other value; the name of a variable can only be letters and numbers (generally lowercase, with spaces  swapped for underscores). There are a bunch of different types of variables, but the most important ones are:\n",
    "\n",
    "- integers (whole numbers)\n",
    "- floats (numbers with decimal places)\n",
    "- strings (sets of characters, such as a word or a sentences)\n",
    "- boolean (true or false, ie bianary)\n",
    "- lists (groups of other variables ordered by their position in the list)\n",
    "- dictionaries (groups of variables ordered by word labels)\n",
    "\n",
    "To assign a value to a variable, you use the equals sign. The value on the right side is stored in the variable on the left side of the equals sign. \n",
    "\n",
    "Note: we can place comments into our code by prefixing something with the pound/hash ```#``` symbol. Comments aren't \"run\" but are just there to help someone understand the code."
   ]
  },
  {
   "cell_type": "code",
   "id": "f99cf0f0-2ddf-439d-8010-a867ce6d83b1",
   "metadata": {
    "ExecuteTime": {
     "end_time": "2024-07-29T06:08:08.681741Z",
     "start_time": "2024-07-29T06:08:08.674711Z"
    }
   },
   "source": [
    "# integer\n",
    "big_number = 1025\n",
    "\n",
    "# float\n",
    "another_big_number = 2310.2315\n",
    "\n",
    "# strings are wrapped in single quotes or double quotes\n",
    "a_good_sentence = \"Just put the tube in\" \n",
    "\n",
    "# booleans are either true or false. In python, True and False are capitalized\n",
    "tube_is_in = True\n",
    "\n",
    "# lists are made using square brackets, with elements seperated by commas. Lists can be made of different variable types.\n",
    "good_variables = [ big_number, another_big_number, a_good_sentence, tube_is_in ]\n",
    "\n",
    "# we can print the whole list to see what is stored inside\n",
    "print(good_variables)"
   ],
   "outputs": [
    {
     "name": "stdout",
     "output_type": "stream",
     "text": [
      "[1025, 2310.2315, 'Just put the tube in', True]\n"
     ]
    }
   ],
   "execution_count": 2
  },
  {
   "cell_type": "markdown",
   "id": "e93e6bad-f484-48e4-a075-d439aafaf8a5",
   "metadata": {},
   "source": [
    "Excellent! Notice that the string still has some quotation marks around it - that's how you know it is a string, and how True is capitalized. If it was lowercase, python would think it was a variable name and go looking for what its value was. \n",
    "\n",
    "If we wanted to get just part of a list, we would need to access the elements using their position (also known as _index_). The first position is zero, so if we wanted the value of ```tube_is_in``` we'd have to get the element with the index of three. Here is how you do that:\n"
   ]
  },
  {
   "cell_type": "code",
   "id": "16a057ef-50c8-4c99-92f5-5b45ff341b50",
   "metadata": {
    "ExecuteTime": {
     "end_time": "2024-07-29T06:08:08.885209Z",
     "start_time": "2024-07-29T06:08:08.880925Z"
    }
   },
   "source": [
    "# to access an element within a list, use square brackets after the list name\n",
    "print(good_variables[3])"
   ],
   "outputs": [
    {
     "name": "stdout",
     "output_type": "stream",
     "text": [
      "True\n"
     ]
    }
   ],
   "execution_count": 3
  },
  {
   "cell_type": "markdown",
   "id": "1068474a-3b06-4261-a5f3-0ab095f07d68",
   "metadata": {},
   "source": [
    "Remembering the index within a list is annoying and error-prone, so there is a better way, using _dictionaries_. Dictionaries are like lists except that we can use a string (ie, a set of characters) to reference the element, instead of having to remember its index number. "
   ]
  },
  {
   "cell_type": "code",
   "id": "f852e72e-3c84-428b-a45a-5352d1c516b9",
   "metadata": {
    "ExecuteTime": {
     "end_time": "2024-07-29T06:08:08.997998Z",
     "start_time": "2024-07-29T06:08:08.991611Z"
    }
   },
   "source": [
    "# dictionaries are like lists but are made using the curly brackets. Instead of relying on their\n",
    "# position in the list as their label, they have a key. The main way to assign them is using the colon symbol. \n",
    "residency_facts = { \"Program Name\": \"Stanford Anesthesia\",\n",
    "                    \"Program Director\": \"Marianne Chen\", \n",
    "                    \"Number of Residents\": 52, \n",
    "                    \"Enough Cardiac Experience\": True}\n",
    "\n",
    "# to access an element, you use a similar method to lists, with square brakets, but instead of the index number, you use the key\n",
    "residency_facts[\"Program Director\"]"
   ],
   "outputs": [
    {
     "data": {
      "text/plain": [
       "'Marianne Chen'"
      ]
     },
     "execution_count": 4,
     "metadata": {},
     "output_type": "execute_result"
    }
   ],
   "execution_count": 4
  },
  {
   "cell_type": "markdown",
   "id": "a26a6d7c-1b15-4141-85fe-3021cb9b7b0f",
   "metadata": {},
   "source": [
    "Wonderful! So now we know how to store data in variables. By itself, that is not very useful. To make a useful program, we generally need to compare values and make decisions based on those values. To do that, we need conditional statements, a way to guide the program on what to do based on the value of a variable. The big one is the if/else statements - compare the values of two variables and do something based on that comparison.\n",
    "\n",
    "# Conditional statements\n",
    "\n",
    "Note that if we want to ask whether two variables are equal to each other, we can't use the same phrasing as below \"name = value\" because that is used for assignment. To compare two values, we use double equals signs ```==```. \n",
    "\n",
    "To break up the sections into which instructions to do when, tabs or spaces are used to create a paragraph of statements to complete.\n"
   ]
  },
  {
   "cell_type": "code",
   "id": "34deabfd-794f-4ce1-a5b5-6fce219fc4ee",
   "metadata": {
    "ExecuteTime": {
     "end_time": "2024-07-29T06:08:09.145984Z",
     "start_time": "2024-07-29T06:08:09.142530Z"
    }
   },
   "source": [
    "# assigning the variable big_number a value of 1025\n",
    "our_number = 1025\n",
    "\n",
    "# comparing the value of a variable to the integer 1025\n",
    "if our_number == 1025:\n",
    "    print(\"That's the same number as before, a big number.\")"
   ],
   "outputs": [
    {
     "name": "stdout",
     "output_type": "stream",
     "text": [
      "That's the same number as before, a big number.\n"
     ]
    }
   ],
   "execution_count": 5
  },
  {
   "cell_type": "markdown",
   "id": "52a5729a-a3cd-4857-9bbc-ea47abe48b7c",
   "metadata": {},
   "source": [
    "You can also include ```else``` statements, and you can compare values not just for equality, but size difference."
   ]
  },
  {
   "cell_type": "code",
   "id": "2cf444e9-4488-4822-b8ea-710cc49e9264",
   "metadata": {
    "ExecuteTime": {
     "end_time": "2024-07-29T06:08:09.178621Z",
     "start_time": "2024-07-29T06:08:09.175677Z"
    }
   },
   "source": [
    "our_number = 1025\n",
    "\n",
    "if our_number > 2000:\n",
    "    print(\"Wow such numbers\")\n",
    "else:\n",
    "    # should be less than or equal to 2000\n",
    "    print(\"Rookie numbers\")"
   ],
   "outputs": [
    {
     "name": "stdout",
     "output_type": "stream",
     "text": [
      "Rookie numbers\n"
     ]
    }
   ],
   "execution_count": 6
  },
  {
   "cell_type": "markdown",
   "id": "89d9bf86-b9a3-4348-bbdd-93a17a67acb9",
   "metadata": {},
   "source": [
    "You can compare any type of value, not just numbers.\n"
   ]
  },
  {
   "cell_type": "code",
   "id": "50fc6b2d-9be5-40a2-920c-9f4a61e3cf0b",
   "metadata": {
    "ExecuteTime": {
     "end_time": "2024-07-29T06:08:09.269564Z",
     "start_time": "2024-07-29T06:08:09.265516Z"
    }
   },
   "source": [
    "old_program_director = \"Alex Macario\"\n",
    "residency_facts = { \"Program Name\": \"Stanford Anesthesia\",\n",
    "                    \"Program Director\": \"Marianne Chen\", \n",
    "                    \"Number of Residents\": 52, \n",
    "                    \"Enough Cardiac Experience\": True}\n",
    "\n",
    "if residency_facts[\"Program Director\"] == old_program_director:\n",
    "    print(\"Same program director as year 2010\")\n",
    "else:\n",
    "    print(\"New program director compared to 2010\")\n"
   ],
   "outputs": [
    {
     "name": "stdout",
     "output_type": "stream",
     "text": [
      "New program director compared to 2010\n"
     ]
    }
   ],
   "execution_count": 7
  },
  {
   "cell_type": "markdown",
   "id": "0af0ca87-b4ff-4d74-891f-aa3ba7bc514f",
   "metadata": {},
   "source": [
    "Wonderful. \n",
    "\n",
    "# Iteration\n",
    "\n",
    "You might say: \"That is all great guys, but these are really easy and I don't really need a computer to do this kind of work for me. I want a computer for tasks that require a lot of repetative effort.\"\n",
    "\n",
    "This is where iteration can be helpful. Iteration is a way to complete a task many times. For example, imagine we had a list of people's names and we wanted to print their name with the title \"Dr\" in front of it. Doing this manually would take a long time, but we can do it quickly in python.\n",
    "\n",
    "The most common way to iterate is to do a action repeatedly for each element in a list. In some programming languages, this is called ```foreach```. In python, it is just called a ```for``` loop. In a for loop, we give the program a temporary variable that represents the element that we're working on, and it moves through the list until the list is complete.\n"
   ]
  },
  {
   "cell_type": "code",
   "id": "c2df6d7e-46fa-46e0-87d1-d1443f46ca5f",
   "metadata": {
    "ExecuteTime": {
     "end_time": "2024-07-29T06:08:09.327777Z",
     "start_time": "2024-07-29T06:08:09.323933Z"
    }
   },
   "source": [
    "# create a list of names\n",
    "ob_faculty_list = [\"Gill Abrir\", \"Brian Bateman\", \"Andrea Traynor\"]\n",
    "for ob_faculty in ob_faculty_list:\n",
    "    print(\"Dr. \" + ob_faculty)\n",
    "    "
   ],
   "outputs": [
    {
     "name": "stdout",
     "output_type": "stream",
     "text": [
      "Dr. Gill Abrir\n",
      "Dr. Brian Bateman\n",
      "Dr. Andrea Traynor\n"
     ]
    }
   ],
   "execution_count": 8
  },
  {
   "cell_type": "markdown",
   "id": "0dab37f2-1498-45b9-a39e-54f00d8885fb",
   "metadata": {},
   "source": [
    "# Functions\n",
    "\n",
    "With everything up to this point, you could build almost any program imaginable. But it would be painful witout functions - a way to collect processes into organized units.\n",
    "\n",
    "Functions don't do anything that you haven't learned yet, they just make programming easier by reducing the amount of repetition in your code. The work similiarly to functions in math - you have an input variable, some internal processing, and an output variable. In coding, you can have more than one input and more than one output. Let's make the world's most boring function - add \"Dr. \" to someone's name."
   ]
  },
  {
   "cell_type": "code",
   "id": "f99412bb-0c2e-46c1-88f3-20140bb44615",
   "metadata": {
    "ExecuteTime": {
     "end_time": "2024-07-29T06:08:09.391242Z",
     "start_time": "2024-07-29T06:08:09.387233Z"
    }
   },
   "source": [
    "# you start defining a function with the keyword \"def\" \n",
    "# list the input variables within paranthesis, followed by a colon\n",
    "\n",
    "def medical_school(person_name):\n",
    "    doctor_name = \"Dr. \" + person_name\n",
    "    return doctor_name\n",
    "\n",
    "# to run a function, use its name followed by the inputs in parathesis\n",
    "some_guy = \"Billy Bob Man\"\n",
    "foo = medical_school(some_guy)\n",
    "print(foo)"
   ],
   "outputs": [
    {
     "name": "stdout",
     "output_type": "stream",
     "text": [
      "Dr. Billy Bob Man\n"
     ]
    }
   ],
   "execution_count": 9
  },
  {
   "cell_type": "markdown",
   "id": "96eec6df-4441-46e8-9956-399e1e9676b3",
   "metadata": {},
   "source": [
    "# Data analysis with Python"
   ]
  },
  {
   "cell_type": "code",
   "id": "60a6d797-b24d-4923-b29d-412fa5e9e02b",
   "metadata": {
    "ExecuteTime": {
     "end_time": "2024-07-29T06:08:09.545590Z",
     "start_time": "2024-07-29T06:08:09.454695Z"
    }
   },
   "source": [
    "# Introduction to Pandas and Dataframes\n",
    "\n",
    "import pandas as pd\n",
    "import matplotlib.pyplot as plt\n",
    "\n",
    "# Creating a simple dataframe\n",
    "data = {\n",
    "    'Name': ['Alice', 'Bob', 'Charlie', 'David', 'Eva'],\n",
    "    'Age': [25, 30, 35, 28, 22],\n",
    "    'City': ['New York', 'San Francisco', 'Los Angeles', 'Chicago', 'Boston'],\n",
    "    'Salary': [50000, 75000, 80000, 65000, 45000]\n",
    "}\n",
    "\n",
    "df = pd.DataFrame(data)\n",
    "\n",
    "print(\"Our dataframe:\")\n",
    "print(df)\n",
    "\n",
    "# Basic operations\n",
    "\n",
    "# Accessing a column\n",
    "print(\"\\nAccessing the 'Age' column:\")\n",
    "print(df['Age'])\n",
    "\n",
    "# Adding a new column\n",
    "df['Experience'] = [3, 7, 10, 5, 1]\n",
    "print(\"\\nDataframe after adding 'Experience' column:\")\n",
    "print(df)\n",
    "\n",
    "# Basic statistics\n",
    "print(\"\\nBasic statistics of numerical columns:\")\n",
    "print(df.describe())\n",
    "\n",
    "# Filtering\n",
    "print(\"\\nEmployees older than 25:\")\n",
    "print(df[df['Age'] > 25])\n",
    "\n",
    "# Sorting\n",
    "print(\"\\nDataframe sorted by Salary (descending):\")\n",
    "print(df.sort_values('Salary', ascending=False))\n",
    "\n",
    "# Grouping and aggregation\n",
    "print(\"\\nAverage salary by city:\")\n",
    "print(df.groupby('City')['Salary'].mean())\n",
    "\n",
    "# Simple visualization\n",
    "plt.figure(figsize=(10,6))\n",
    "plt.bar(df['Name'], df['Salary'])\n",
    "plt.title('Salary Distribution')\n",
    "plt.xlabel('Name')\n",
    "plt.ylabel('Salary')\n",
    "plt.show()\n",
    "\n",
    "# Saving to CSV\n",
    "df.to_csv('employee_data.csv', index=False)\n",
    "print(\"\\nDataframe saved to 'employee_data.csv'\")\n",
    "\n",
    "# Reading from CSV\n",
    "df_from_csv = pd.read_csv('employee_data.csv')\n",
    "print(\"\\nDataframe read from CSV:\")\n",
    "print(df_from_csv)"
   ],
   "outputs": [
    {
     "ename": "ModuleNotFoundError",
     "evalue": "No module named 'pandas'",
     "output_type": "error",
     "traceback": [
      "\u001B[0;31m---------------------------------------------------------------------------\u001B[0m",
      "\u001B[0;31mModuleNotFoundError\u001B[0m                       Traceback (most recent call last)",
      "Cell \u001B[0;32mIn[10], line 3\u001B[0m\n\u001B[1;32m      1\u001B[0m \u001B[38;5;66;03m# Introduction to Pandas and Dataframes\u001B[39;00m\n\u001B[0;32m----> 3\u001B[0m \u001B[38;5;28;01mimport\u001B[39;00m \u001B[38;5;21;01mpandas\u001B[39;00m \u001B[38;5;28;01mas\u001B[39;00m \u001B[38;5;21;01mpd\u001B[39;00m\n\u001B[1;32m      4\u001B[0m \u001B[38;5;28;01mimport\u001B[39;00m \u001B[38;5;21;01mmatplotlib\u001B[39;00m\u001B[38;5;21;01m.\u001B[39;00m\u001B[38;5;21;01mpyplot\u001B[39;00m \u001B[38;5;28;01mas\u001B[39;00m \u001B[38;5;21;01mplt\u001B[39;00m\n\u001B[1;32m      6\u001B[0m \u001B[38;5;66;03m# Creating a simple dataframe\u001B[39;00m\n",
      "\u001B[0;31mModuleNotFoundError\u001B[0m: No module named 'pandas'"
     ]
    }
   ],
   "execution_count": 10
  },
  {
   "metadata": {},
   "cell_type": "markdown",
   "source": [
    "We are going to go through a practice exercise with medical resident physicians on how to use ChatGPT Data Analyst. First, create me a data set that is 100 rows about teen obesity in the United States and interesting variables so we can practice data analysis. \n",
    "\n",
    "Clean and format this data if needed. \n",
    "\n",
    "Analyze this data set and give me some insights about obesity among teens.\n",
    " \n",
    "Visualize these insights.\n",
    "\n",
    "Create a pie chart for BMI category distribution among teens in the U.S.\n",
    " \n",
    "Now, create a new synthetic data set with 12 rows including hospital's revenue, surgical volume, patient volume, weather, and other interesting variables by month. Clean and format this data. \n",
    "\n",
    "Create a line graph showing revenue for this specific year. Make this a dual axis line graph and add in surgical volume on the second y-axis. \n",
    "\n",
    "Give me links where I can download the cleaned data set as •csv file and the python code for the analysis.\n",
    "\n"
   ],
   "id": "4016c86dca500538"
  },
  {
   "metadata": {},
   "cell_type": "code",
   "outputs": [],
   "execution_count": null,
   "source": "",
   "id": "1ef86375cbd960f2"
  }
 ],
 "metadata": {
  "kernelspec": {
   "display_name": "Python 3 (ipykernel)",
   "language": "python",
   "name": "python3"
  },
  "language_info": {
   "codemirror_mode": {
    "name": "ipython",
    "version": 3
   },
   "file_extension": ".py",
   "mimetype": "text/x-python",
   "name": "python",
   "nbconvert_exporter": "python",
   "pygments_lexer": "ipython3",
   "version": "3.10.10"
  }
 },
 "nbformat": 4,
 "nbformat_minor": 5
}
